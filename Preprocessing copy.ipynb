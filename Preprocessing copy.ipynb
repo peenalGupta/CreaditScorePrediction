{
 "cells": [
  {
   "cell_type": "code",
   "execution_count": 3,
   "metadata": {},
   "outputs": [],
   "source": [
    "import pandas as pd\n",
    "import shap\n",
    "import matplotlib.pyplot as plt\n",
    "import seaborn as sns\n",
    "import numpy as np\n",
    "import plotly.express as px\n",
    "import plotly.graph_objs as go\n",
    "sns.set(style=\"whitegrid\")\n",
    "\n",
    "from scipy import stats\n",
    "from sklearn.preprocessing import StandardScaler, OneHotEncoder, LabelEncoder\n",
    "from sklearn.decomposition import PCA\n",
    "from statsmodels.stats.outliers_influence import variance_inflation_factor\n",
    "from sklearn.model_selection import GridSearchCV, RandomizedSearchCV,train_test_split,StratifiedKFold\n",
    "from sklearn.ensemble import RandomForestClassifier\n",
    "from sklearn.linear_model import LogisticRegression\n",
    "from sklearn.svm import SVC\n",
    "from sklearn.metrics import accuracy_score, classification_report, roc_auc_score, confusion_matrix\n",
    "from imblearn.over_sampling import SMOTE\n",
    "import shap\n",
    "import lime.lime_tabular\n",
    "from sklearn.utils.class_weight import compute_class_weight\n",
    "from fairlearn.metrics import selection_rate\n",
    "from aif360.sklearn.metrics import disparate_impact_ratio, statistical_parity_difference"
   ]
  },
  {
   "cell_type": "code",
   "execution_count": 4,
   "metadata": {},
   "outputs": [],
   "source": [
    "df = pd.read_csv(\"BankChurners.csv\")"
   ]
  },
  {
   "cell_type": "code",
   "execution_count": 5,
   "metadata": {},
   "outputs": [
    {
     "data": {
      "text/html": [
       "<div>\n",
       "<style scoped>\n",
       "    .dataframe tbody tr th:only-of-type {\n",
       "        vertical-align: middle;\n",
       "    }\n",
       "\n",
       "    .dataframe tbody tr th {\n",
       "        vertical-align: top;\n",
       "    }\n",
       "\n",
       "    .dataframe thead th {\n",
       "        text-align: right;\n",
       "    }\n",
       "</style>\n",
       "<table border=\"1\" class=\"dataframe\">\n",
       "  <thead>\n",
       "    <tr style=\"text-align: right;\">\n",
       "      <th></th>\n",
       "      <th>CLIENTNUM</th>\n",
       "      <th>Attrition_Flag</th>\n",
       "      <th>Customer_Age</th>\n",
       "      <th>Gender</th>\n",
       "      <th>Dependent_count</th>\n",
       "      <th>Education_Level</th>\n",
       "      <th>Marital_Status</th>\n",
       "      <th>Income_Category</th>\n",
       "      <th>Card_Category</th>\n",
       "      <th>Months_on_book</th>\n",
       "      <th>...</th>\n",
       "      <th>Credit_Limit</th>\n",
       "      <th>Total_Revolving_Bal</th>\n",
       "      <th>Avg_Open_To_Buy</th>\n",
       "      <th>Total_Amt_Chng_Q4_Q1</th>\n",
       "      <th>Total_Trans_Amt</th>\n",
       "      <th>Total_Trans_Ct</th>\n",
       "      <th>Total_Ct_Chng_Q4_Q1</th>\n",
       "      <th>Avg_Utilization_Ratio</th>\n",
       "      <th>Naive_Bayes_Classifier_Attrition_Flag_Card_Category_Contacts_Count_12_mon_Dependent_count_Education_Level_Months_Inactive_12_mon_1</th>\n",
       "      <th>Naive_Bayes_Classifier_Attrition_Flag_Card_Category_Contacts_Count_12_mon_Dependent_count_Education_Level_Months_Inactive_12_mon_2</th>\n",
       "    </tr>\n",
       "  </thead>\n",
       "  <tbody>\n",
       "    <tr>\n",
       "      <th>0</th>\n",
       "      <td>768805383</td>\n",
       "      <td>Existing Customer</td>\n",
       "      <td>45</td>\n",
       "      <td>M</td>\n",
       "      <td>3</td>\n",
       "      <td>High School</td>\n",
       "      <td>Married</td>\n",
       "      <td>$60K - $80K</td>\n",
       "      <td>Blue</td>\n",
       "      <td>39</td>\n",
       "      <td>...</td>\n",
       "      <td>12691.0</td>\n",
       "      <td>777</td>\n",
       "      <td>11914.0</td>\n",
       "      <td>1.335</td>\n",
       "      <td>1144</td>\n",
       "      <td>42</td>\n",
       "      <td>1.625</td>\n",
       "      <td>0.061</td>\n",
       "      <td>0.000093</td>\n",
       "      <td>0.99991</td>\n",
       "    </tr>\n",
       "    <tr>\n",
       "      <th>1</th>\n",
       "      <td>818770008</td>\n",
       "      <td>Existing Customer</td>\n",
       "      <td>49</td>\n",
       "      <td>F</td>\n",
       "      <td>5</td>\n",
       "      <td>Graduate</td>\n",
       "      <td>Single</td>\n",
       "      <td>Less than $40K</td>\n",
       "      <td>Blue</td>\n",
       "      <td>44</td>\n",
       "      <td>...</td>\n",
       "      <td>8256.0</td>\n",
       "      <td>864</td>\n",
       "      <td>7392.0</td>\n",
       "      <td>1.541</td>\n",
       "      <td>1291</td>\n",
       "      <td>33</td>\n",
       "      <td>3.714</td>\n",
       "      <td>0.105</td>\n",
       "      <td>0.000057</td>\n",
       "      <td>0.99994</td>\n",
       "    </tr>\n",
       "    <tr>\n",
       "      <th>2</th>\n",
       "      <td>713982108</td>\n",
       "      <td>Existing Customer</td>\n",
       "      <td>51</td>\n",
       "      <td>M</td>\n",
       "      <td>3</td>\n",
       "      <td>Graduate</td>\n",
       "      <td>Married</td>\n",
       "      <td>$80K - $120K</td>\n",
       "      <td>Blue</td>\n",
       "      <td>36</td>\n",
       "      <td>...</td>\n",
       "      <td>3418.0</td>\n",
       "      <td>0</td>\n",
       "      <td>3418.0</td>\n",
       "      <td>2.594</td>\n",
       "      <td>1887</td>\n",
       "      <td>20</td>\n",
       "      <td>2.333</td>\n",
       "      <td>0.000</td>\n",
       "      <td>0.000021</td>\n",
       "      <td>0.99998</td>\n",
       "    </tr>\n",
       "    <tr>\n",
       "      <th>3</th>\n",
       "      <td>769911858</td>\n",
       "      <td>Existing Customer</td>\n",
       "      <td>40</td>\n",
       "      <td>F</td>\n",
       "      <td>4</td>\n",
       "      <td>High School</td>\n",
       "      <td>Unknown</td>\n",
       "      <td>Less than $40K</td>\n",
       "      <td>Blue</td>\n",
       "      <td>34</td>\n",
       "      <td>...</td>\n",
       "      <td>3313.0</td>\n",
       "      <td>2517</td>\n",
       "      <td>796.0</td>\n",
       "      <td>1.405</td>\n",
       "      <td>1171</td>\n",
       "      <td>20</td>\n",
       "      <td>2.333</td>\n",
       "      <td>0.760</td>\n",
       "      <td>0.000134</td>\n",
       "      <td>0.99987</td>\n",
       "    </tr>\n",
       "    <tr>\n",
       "      <th>4</th>\n",
       "      <td>709106358</td>\n",
       "      <td>Existing Customer</td>\n",
       "      <td>40</td>\n",
       "      <td>M</td>\n",
       "      <td>3</td>\n",
       "      <td>Uneducated</td>\n",
       "      <td>Married</td>\n",
       "      <td>$60K - $80K</td>\n",
       "      <td>Blue</td>\n",
       "      <td>21</td>\n",
       "      <td>...</td>\n",
       "      <td>4716.0</td>\n",
       "      <td>0</td>\n",
       "      <td>4716.0</td>\n",
       "      <td>2.175</td>\n",
       "      <td>816</td>\n",
       "      <td>28</td>\n",
       "      <td>2.500</td>\n",
       "      <td>0.000</td>\n",
       "      <td>0.000022</td>\n",
       "      <td>0.99998</td>\n",
       "    </tr>\n",
       "    <tr>\n",
       "      <th>5</th>\n",
       "      <td>713061558</td>\n",
       "      <td>Existing Customer</td>\n",
       "      <td>44</td>\n",
       "      <td>M</td>\n",
       "      <td>2</td>\n",
       "      <td>Graduate</td>\n",
       "      <td>Married</td>\n",
       "      <td>$40K - $60K</td>\n",
       "      <td>Blue</td>\n",
       "      <td>36</td>\n",
       "      <td>...</td>\n",
       "      <td>4010.0</td>\n",
       "      <td>1247</td>\n",
       "      <td>2763.0</td>\n",
       "      <td>1.376</td>\n",
       "      <td>1088</td>\n",
       "      <td>24</td>\n",
       "      <td>0.846</td>\n",
       "      <td>0.311</td>\n",
       "      <td>0.000055</td>\n",
       "      <td>0.99994</td>\n",
       "    </tr>\n",
       "    <tr>\n",
       "      <th>6</th>\n",
       "      <td>810347208</td>\n",
       "      <td>Existing Customer</td>\n",
       "      <td>51</td>\n",
       "      <td>M</td>\n",
       "      <td>4</td>\n",
       "      <td>Unknown</td>\n",
       "      <td>Married</td>\n",
       "      <td>$120K +</td>\n",
       "      <td>Gold</td>\n",
       "      <td>46</td>\n",
       "      <td>...</td>\n",
       "      <td>34516.0</td>\n",
       "      <td>2264</td>\n",
       "      <td>32252.0</td>\n",
       "      <td>1.975</td>\n",
       "      <td>1330</td>\n",
       "      <td>31</td>\n",
       "      <td>0.722</td>\n",
       "      <td>0.066</td>\n",
       "      <td>0.000123</td>\n",
       "      <td>0.99988</td>\n",
       "    </tr>\n",
       "    <tr>\n",
       "      <th>7</th>\n",
       "      <td>818906208</td>\n",
       "      <td>Existing Customer</td>\n",
       "      <td>32</td>\n",
       "      <td>M</td>\n",
       "      <td>0</td>\n",
       "      <td>High School</td>\n",
       "      <td>Unknown</td>\n",
       "      <td>$60K - $80K</td>\n",
       "      <td>Silver</td>\n",
       "      <td>27</td>\n",
       "      <td>...</td>\n",
       "      <td>29081.0</td>\n",
       "      <td>1396</td>\n",
       "      <td>27685.0</td>\n",
       "      <td>2.204</td>\n",
       "      <td>1538</td>\n",
       "      <td>36</td>\n",
       "      <td>0.714</td>\n",
       "      <td>0.048</td>\n",
       "      <td>0.000086</td>\n",
       "      <td>0.99991</td>\n",
       "    </tr>\n",
       "    <tr>\n",
       "      <th>8</th>\n",
       "      <td>710930508</td>\n",
       "      <td>Existing Customer</td>\n",
       "      <td>37</td>\n",
       "      <td>M</td>\n",
       "      <td>3</td>\n",
       "      <td>Uneducated</td>\n",
       "      <td>Single</td>\n",
       "      <td>$60K - $80K</td>\n",
       "      <td>Blue</td>\n",
       "      <td>36</td>\n",
       "      <td>...</td>\n",
       "      <td>22352.0</td>\n",
       "      <td>2517</td>\n",
       "      <td>19835.0</td>\n",
       "      <td>3.355</td>\n",
       "      <td>1350</td>\n",
       "      <td>24</td>\n",
       "      <td>1.182</td>\n",
       "      <td>0.113</td>\n",
       "      <td>0.000045</td>\n",
       "      <td>0.99996</td>\n",
       "    </tr>\n",
       "    <tr>\n",
       "      <th>9</th>\n",
       "      <td>719661558</td>\n",
       "      <td>Existing Customer</td>\n",
       "      <td>48</td>\n",
       "      <td>M</td>\n",
       "      <td>2</td>\n",
       "      <td>Graduate</td>\n",
       "      <td>Single</td>\n",
       "      <td>$80K - $120K</td>\n",
       "      <td>Blue</td>\n",
       "      <td>36</td>\n",
       "      <td>...</td>\n",
       "      <td>11656.0</td>\n",
       "      <td>1677</td>\n",
       "      <td>9979.0</td>\n",
       "      <td>1.524</td>\n",
       "      <td>1441</td>\n",
       "      <td>32</td>\n",
       "      <td>0.882</td>\n",
       "      <td>0.144</td>\n",
       "      <td>0.000303</td>\n",
       "      <td>0.99970</td>\n",
       "    </tr>\n",
       "  </tbody>\n",
       "</table>\n",
       "<p>10 rows × 23 columns</p>\n",
       "</div>"
      ],
      "text/plain": [
       "   CLIENTNUM     Attrition_Flag  Customer_Age Gender  Dependent_count  \\\n",
       "0  768805383  Existing Customer            45      M                3   \n",
       "1  818770008  Existing Customer            49      F                5   \n",
       "2  713982108  Existing Customer            51      M                3   \n",
       "3  769911858  Existing Customer            40      F                4   \n",
       "4  709106358  Existing Customer            40      M                3   \n",
       "5  713061558  Existing Customer            44      M                2   \n",
       "6  810347208  Existing Customer            51      M                4   \n",
       "7  818906208  Existing Customer            32      M                0   \n",
       "8  710930508  Existing Customer            37      M                3   \n",
       "9  719661558  Existing Customer            48      M                2   \n",
       "\n",
       "  Education_Level Marital_Status Income_Category Card_Category  \\\n",
       "0     High School        Married     $60K - $80K          Blue   \n",
       "1        Graduate         Single  Less than $40K          Blue   \n",
       "2        Graduate        Married    $80K - $120K          Blue   \n",
       "3     High School        Unknown  Less than $40K          Blue   \n",
       "4      Uneducated        Married     $60K - $80K          Blue   \n",
       "5        Graduate        Married     $40K - $60K          Blue   \n",
       "6         Unknown        Married         $120K +          Gold   \n",
       "7     High School        Unknown     $60K - $80K        Silver   \n",
       "8      Uneducated         Single     $60K - $80K          Blue   \n",
       "9        Graduate         Single    $80K - $120K          Blue   \n",
       "\n",
       "   Months_on_book  ...  Credit_Limit  Total_Revolving_Bal  Avg_Open_To_Buy  \\\n",
       "0              39  ...       12691.0                  777          11914.0   \n",
       "1              44  ...        8256.0                  864           7392.0   \n",
       "2              36  ...        3418.0                    0           3418.0   \n",
       "3              34  ...        3313.0                 2517            796.0   \n",
       "4              21  ...        4716.0                    0           4716.0   \n",
       "5              36  ...        4010.0                 1247           2763.0   \n",
       "6              46  ...       34516.0                 2264          32252.0   \n",
       "7              27  ...       29081.0                 1396          27685.0   \n",
       "8              36  ...       22352.0                 2517          19835.0   \n",
       "9              36  ...       11656.0                 1677           9979.0   \n",
       "\n",
       "   Total_Amt_Chng_Q4_Q1  Total_Trans_Amt  Total_Trans_Ct  Total_Ct_Chng_Q4_Q1  \\\n",
       "0                 1.335             1144              42                1.625   \n",
       "1                 1.541             1291              33                3.714   \n",
       "2                 2.594             1887              20                2.333   \n",
       "3                 1.405             1171              20                2.333   \n",
       "4                 2.175              816              28                2.500   \n",
       "5                 1.376             1088              24                0.846   \n",
       "6                 1.975             1330              31                0.722   \n",
       "7                 2.204             1538              36                0.714   \n",
       "8                 3.355             1350              24                1.182   \n",
       "9                 1.524             1441              32                0.882   \n",
       "\n",
       "   Avg_Utilization_Ratio  \\\n",
       "0                  0.061   \n",
       "1                  0.105   \n",
       "2                  0.000   \n",
       "3                  0.760   \n",
       "4                  0.000   \n",
       "5                  0.311   \n",
       "6                  0.066   \n",
       "7                  0.048   \n",
       "8                  0.113   \n",
       "9                  0.144   \n",
       "\n",
       "   Naive_Bayes_Classifier_Attrition_Flag_Card_Category_Contacts_Count_12_mon_Dependent_count_Education_Level_Months_Inactive_12_mon_1  \\\n",
       "0                                           0.000093                                                                                    \n",
       "1                                           0.000057                                                                                    \n",
       "2                                           0.000021                                                                                    \n",
       "3                                           0.000134                                                                                    \n",
       "4                                           0.000022                                                                                    \n",
       "5                                           0.000055                                                                                    \n",
       "6                                           0.000123                                                                                    \n",
       "7                                           0.000086                                                                                    \n",
       "8                                           0.000045                                                                                    \n",
       "9                                           0.000303                                                                                    \n",
       "\n",
       "   Naive_Bayes_Classifier_Attrition_Flag_Card_Category_Contacts_Count_12_mon_Dependent_count_Education_Level_Months_Inactive_12_mon_2  \n",
       "0                                            0.99991                                                                                   \n",
       "1                                            0.99994                                                                                   \n",
       "2                                            0.99998                                                                                   \n",
       "3                                            0.99987                                                                                   \n",
       "4                                            0.99998                                                                                   \n",
       "5                                            0.99994                                                                                   \n",
       "6                                            0.99988                                                                                   \n",
       "7                                            0.99991                                                                                   \n",
       "8                                            0.99996                                                                                   \n",
       "9                                            0.99970                                                                                   \n",
       "\n",
       "[10 rows x 23 columns]"
      ]
     },
     "execution_count": 5,
     "metadata": {},
     "output_type": "execute_result"
    }
   ],
   "source": [
    "df.head(10)"
   ]
  },
  {
   "cell_type": "code",
   "execution_count": 6,
   "metadata": {},
   "outputs": [
    {
     "data": {
      "text/plain": [
       "CLIENTNUM                                                                                                                             0\n",
       "Attrition_Flag                                                                                                                        0\n",
       "Customer_Age                                                                                                                          0\n",
       "Gender                                                                                                                                0\n",
       "Dependent_count                                                                                                                       0\n",
       "Education_Level                                                                                                                       0\n",
       "Marital_Status                                                                                                                        0\n",
       "Income_Category                                                                                                                       0\n",
       "Card_Category                                                                                                                         0\n",
       "Months_on_book                                                                                                                        0\n",
       "Total_Relationship_Count                                                                                                              0\n",
       "Months_Inactive_12_mon                                                                                                                0\n",
       "Contacts_Count_12_mon                                                                                                                 0\n",
       "Credit_Limit                                                                                                                          0\n",
       "Total_Revolving_Bal                                                                                                                   0\n",
       "Avg_Open_To_Buy                                                                                                                       0\n",
       "Total_Amt_Chng_Q4_Q1                                                                                                                  0\n",
       "Total_Trans_Amt                                                                                                                       0\n",
       "Total_Trans_Ct                                                                                                                        0\n",
       "Total_Ct_Chng_Q4_Q1                                                                                                                   0\n",
       "Avg_Utilization_Ratio                                                                                                                 0\n",
       "Naive_Bayes_Classifier_Attrition_Flag_Card_Category_Contacts_Count_12_mon_Dependent_count_Education_Level_Months_Inactive_12_mon_1    0\n",
       "Naive_Bayes_Classifier_Attrition_Flag_Card_Category_Contacts_Count_12_mon_Dependent_count_Education_Level_Months_Inactive_12_mon_2    0\n",
       "dtype: int64"
      ]
     },
     "execution_count": 6,
     "metadata": {},
     "output_type": "execute_result"
    }
   ],
   "source": [
    "df.isna().sum()"
   ]
  },
  {
   "cell_type": "markdown",
   "metadata": {},
   "source": [
    "**There are no Null Values in the dataset.**"
   ]
  },
  {
   "cell_type": "code",
   "execution_count": 7,
   "metadata": {},
   "outputs": [
    {
     "data": {
      "text/plain": [
       "Index(['CLIENTNUM', 'Attrition_Flag', 'Customer_Age', 'Gender',\n",
       "       'Dependent_count', 'Education_Level', 'Marital_Status',\n",
       "       'Income_Category', 'Card_Category', 'Months_on_book',\n",
       "       'Total_Relationship_Count', 'Months_Inactive_12_mon',\n",
       "       'Contacts_Count_12_mon', 'Credit_Limit', 'Total_Revolving_Bal',\n",
       "       'Avg_Open_To_Buy', 'Total_Amt_Chng_Q4_Q1', 'Total_Trans_Amt',\n",
       "       'Total_Trans_Ct', 'Total_Ct_Chng_Q4_Q1', 'Avg_Utilization_Ratio',\n",
       "       'Naive_Bayes_Classifier_Attrition_Flag_Card_Category_Contacts_Count_12_mon_Dependent_count_Education_Level_Months_Inactive_12_mon_1',\n",
       "       'Naive_Bayes_Classifier_Attrition_Flag_Card_Category_Contacts_Count_12_mon_Dependent_count_Education_Level_Months_Inactive_12_mon_2'],\n",
       "      dtype='object')"
      ]
     },
     "execution_count": 7,
     "metadata": {},
     "output_type": "execute_result"
    }
   ],
   "source": [
    "df.columns"
   ]
  },
  {
   "cell_type": "code",
   "execution_count": 8,
   "metadata": {},
   "outputs": [
    {
     "data": {
      "text/plain": [
       "(10127, 23)"
      ]
     },
     "execution_count": 8,
     "metadata": {},
     "output_type": "execute_result"
    }
   ],
   "source": [
    "df.shape"
   ]
  },
  {
   "cell_type": "code",
   "execution_count": 9,
   "metadata": {},
   "outputs": [
    {
     "name": "stdout",
     "output_type": "stream",
     "text": [
      "<class 'pandas.core.frame.DataFrame'>\n",
      "RangeIndex: 10127 entries, 0 to 10126\n",
      "Data columns (total 23 columns):\n",
      " #   Column                                                                                                                              Non-Null Count  Dtype  \n",
      "---  ------                                                                                                                              --------------  -----  \n",
      " 0   CLIENTNUM                                                                                                                           10127 non-null  int64  \n",
      " 1   Attrition_Flag                                                                                                                      10127 non-null  object \n",
      " 2   Customer_Age                                                                                                                        10127 non-null  int64  \n",
      " 3   Gender                                                                                                                              10127 non-null  object \n",
      " 4   Dependent_count                                                                                                                     10127 non-null  int64  \n",
      " 5   Education_Level                                                                                                                     10127 non-null  object \n",
      " 6   Marital_Status                                                                                                                      10127 non-null  object \n",
      " 7   Income_Category                                                                                                                     10127 non-null  object \n",
      " 8   Card_Category                                                                                                                       10127 non-null  object \n",
      " 9   Months_on_book                                                                                                                      10127 non-null  int64  \n",
      " 10  Total_Relationship_Count                                                                                                            10127 non-null  int64  \n",
      " 11  Months_Inactive_12_mon                                                                                                              10127 non-null  int64  \n",
      " 12  Contacts_Count_12_mon                                                                                                               10127 non-null  int64  \n",
      " 13  Credit_Limit                                                                                                                        10127 non-null  float64\n",
      " 14  Total_Revolving_Bal                                                                                                                 10127 non-null  int64  \n",
      " 15  Avg_Open_To_Buy                                                                                                                     10127 non-null  float64\n",
      " 16  Total_Amt_Chng_Q4_Q1                                                                                                                10127 non-null  float64\n",
      " 17  Total_Trans_Amt                                                                                                                     10127 non-null  int64  \n",
      " 18  Total_Trans_Ct                                                                                                                      10127 non-null  int64  \n",
      " 19  Total_Ct_Chng_Q4_Q1                                                                                                                 10127 non-null  float64\n",
      " 20  Avg_Utilization_Ratio                                                                                                               10127 non-null  float64\n",
      " 21  Naive_Bayes_Classifier_Attrition_Flag_Card_Category_Contacts_Count_12_mon_Dependent_count_Education_Level_Months_Inactive_12_mon_1  10127 non-null  float64\n",
      " 22  Naive_Bayes_Classifier_Attrition_Flag_Card_Category_Contacts_Count_12_mon_Dependent_count_Education_Level_Months_Inactive_12_mon_2  10127 non-null  float64\n",
      "dtypes: float64(7), int64(10), object(6)\n",
      "memory usage: 1.8+ MB\n"
     ]
    }
   ],
   "source": [
    "df.info()"
   ]
  },
  {
   "cell_type": "code",
   "execution_count": 10,
   "metadata": {},
   "outputs": [
    {
     "data": {
      "text/plain": [
       "CLIENTNUM                                                                                                                               int64\n",
       "Attrition_Flag                                                                                                                         object\n",
       "Customer_Age                                                                                                                            int64\n",
       "Gender                                                                                                                                 object\n",
       "Dependent_count                                                                                                                         int64\n",
       "Education_Level                                                                                                                        object\n",
       "Marital_Status                                                                                                                         object\n",
       "Income_Category                                                                                                                        object\n",
       "Card_Category                                                                                                                          object\n",
       "Months_on_book                                                                                                                          int64\n",
       "Total_Relationship_Count                                                                                                                int64\n",
       "Months_Inactive_12_mon                                                                                                                  int64\n",
       "Contacts_Count_12_mon                                                                                                                   int64\n",
       "Credit_Limit                                                                                                                          float64\n",
       "Total_Revolving_Bal                                                                                                                     int64\n",
       "Avg_Open_To_Buy                                                                                                                       float64\n",
       "Total_Amt_Chng_Q4_Q1                                                                                                                  float64\n",
       "Total_Trans_Amt                                                                                                                         int64\n",
       "Total_Trans_Ct                                                                                                                          int64\n",
       "Total_Ct_Chng_Q4_Q1                                                                                                                   float64\n",
       "Avg_Utilization_Ratio                                                                                                                 float64\n",
       "Naive_Bayes_Classifier_Attrition_Flag_Card_Category_Contacts_Count_12_mon_Dependent_count_Education_Level_Months_Inactive_12_mon_1    float64\n",
       "Naive_Bayes_Classifier_Attrition_Flag_Card_Category_Contacts_Count_12_mon_Dependent_count_Education_Level_Months_Inactive_12_mon_2    float64\n",
       "dtype: object"
      ]
     },
     "execution_count": 10,
     "metadata": {},
     "output_type": "execute_result"
    }
   ],
   "source": [
    "df.dtypes"
   ]
  },
  {
   "cell_type": "code",
   "execution_count": 11,
   "metadata": {},
   "outputs": [
    {
     "data": {
      "text/plain": [
       "0"
      ]
     },
     "execution_count": 11,
     "metadata": {},
     "output_type": "execute_result"
    }
   ],
   "source": [
    "df.duplicated().sum()"
   ]
  },
  {
   "cell_type": "code",
   "execution_count": 12,
   "metadata": {},
   "outputs": [
    {
     "data": {
      "text/html": [
       "<div>\n",
       "<style scoped>\n",
       "    .dataframe tbody tr th:only-of-type {\n",
       "        vertical-align: middle;\n",
       "    }\n",
       "\n",
       "    .dataframe tbody tr th {\n",
       "        vertical-align: top;\n",
       "    }\n",
       "\n",
       "    .dataframe thead th {\n",
       "        text-align: right;\n",
       "    }\n",
       "</style>\n",
       "<table border=\"1\" class=\"dataframe\">\n",
       "  <thead>\n",
       "    <tr style=\"text-align: right;\">\n",
       "      <th></th>\n",
       "      <th>CLIENTNUM</th>\n",
       "      <th>Customer_Age</th>\n",
       "      <th>Dependent_count</th>\n",
       "      <th>Months_on_book</th>\n",
       "      <th>Total_Relationship_Count</th>\n",
       "      <th>Months_Inactive_12_mon</th>\n",
       "      <th>Contacts_Count_12_mon</th>\n",
       "      <th>Credit_Limit</th>\n",
       "      <th>Total_Revolving_Bal</th>\n",
       "      <th>Avg_Open_To_Buy</th>\n",
       "      <th>Total_Amt_Chng_Q4_Q1</th>\n",
       "      <th>Total_Trans_Amt</th>\n",
       "      <th>Total_Trans_Ct</th>\n",
       "      <th>Total_Ct_Chng_Q4_Q1</th>\n",
       "      <th>Avg_Utilization_Ratio</th>\n",
       "      <th>Naive_Bayes_Classifier_Attrition_Flag_Card_Category_Contacts_Count_12_mon_Dependent_count_Education_Level_Months_Inactive_12_mon_1</th>\n",
       "      <th>Naive_Bayes_Classifier_Attrition_Flag_Card_Category_Contacts_Count_12_mon_Dependent_count_Education_Level_Months_Inactive_12_mon_2</th>\n",
       "    </tr>\n",
       "  </thead>\n",
       "  <tbody>\n",
       "    <tr>\n",
       "      <th>count</th>\n",
       "      <td>1.012700e+04</td>\n",
       "      <td>10127.000000</td>\n",
       "      <td>10127.000000</td>\n",
       "      <td>10127.000000</td>\n",
       "      <td>10127.000000</td>\n",
       "      <td>10127.000000</td>\n",
       "      <td>10127.000000</td>\n",
       "      <td>10127.000000</td>\n",
       "      <td>10127.000000</td>\n",
       "      <td>10127.000000</td>\n",
       "      <td>10127.000000</td>\n",
       "      <td>10127.000000</td>\n",
       "      <td>10127.000000</td>\n",
       "      <td>10127.000000</td>\n",
       "      <td>10127.000000</td>\n",
       "      <td>10127.000000</td>\n",
       "      <td>10127.000000</td>\n",
       "    </tr>\n",
       "    <tr>\n",
       "      <th>mean</th>\n",
       "      <td>7.391776e+08</td>\n",
       "      <td>46.325960</td>\n",
       "      <td>2.346203</td>\n",
       "      <td>35.928409</td>\n",
       "      <td>3.812580</td>\n",
       "      <td>2.341167</td>\n",
       "      <td>2.455317</td>\n",
       "      <td>8631.953698</td>\n",
       "      <td>1162.814061</td>\n",
       "      <td>7469.139637</td>\n",
       "      <td>0.759941</td>\n",
       "      <td>4404.086304</td>\n",
       "      <td>64.858695</td>\n",
       "      <td>0.712222</td>\n",
       "      <td>0.274894</td>\n",
       "      <td>0.159997</td>\n",
       "      <td>0.840003</td>\n",
       "    </tr>\n",
       "    <tr>\n",
       "      <th>std</th>\n",
       "      <td>3.690378e+07</td>\n",
       "      <td>8.016814</td>\n",
       "      <td>1.298908</td>\n",
       "      <td>7.986416</td>\n",
       "      <td>1.554408</td>\n",
       "      <td>1.010622</td>\n",
       "      <td>1.106225</td>\n",
       "      <td>9088.776650</td>\n",
       "      <td>814.987335</td>\n",
       "      <td>9090.685324</td>\n",
       "      <td>0.219207</td>\n",
       "      <td>3397.129254</td>\n",
       "      <td>23.472570</td>\n",
       "      <td>0.238086</td>\n",
       "      <td>0.275691</td>\n",
       "      <td>0.365301</td>\n",
       "      <td>0.365301</td>\n",
       "    </tr>\n",
       "    <tr>\n",
       "      <th>min</th>\n",
       "      <td>7.080821e+08</td>\n",
       "      <td>26.000000</td>\n",
       "      <td>0.000000</td>\n",
       "      <td>13.000000</td>\n",
       "      <td>1.000000</td>\n",
       "      <td>0.000000</td>\n",
       "      <td>0.000000</td>\n",
       "      <td>1438.300000</td>\n",
       "      <td>0.000000</td>\n",
       "      <td>3.000000</td>\n",
       "      <td>0.000000</td>\n",
       "      <td>510.000000</td>\n",
       "      <td>10.000000</td>\n",
       "      <td>0.000000</td>\n",
       "      <td>0.000000</td>\n",
       "      <td>0.000008</td>\n",
       "      <td>0.000420</td>\n",
       "    </tr>\n",
       "    <tr>\n",
       "      <th>25%</th>\n",
       "      <td>7.130368e+08</td>\n",
       "      <td>41.000000</td>\n",
       "      <td>1.000000</td>\n",
       "      <td>31.000000</td>\n",
       "      <td>3.000000</td>\n",
       "      <td>2.000000</td>\n",
       "      <td>2.000000</td>\n",
       "      <td>2555.000000</td>\n",
       "      <td>359.000000</td>\n",
       "      <td>1324.500000</td>\n",
       "      <td>0.631000</td>\n",
       "      <td>2155.500000</td>\n",
       "      <td>45.000000</td>\n",
       "      <td>0.582000</td>\n",
       "      <td>0.023000</td>\n",
       "      <td>0.000099</td>\n",
       "      <td>0.999660</td>\n",
       "    </tr>\n",
       "    <tr>\n",
       "      <th>50%</th>\n",
       "      <td>7.179264e+08</td>\n",
       "      <td>46.000000</td>\n",
       "      <td>2.000000</td>\n",
       "      <td>36.000000</td>\n",
       "      <td>4.000000</td>\n",
       "      <td>2.000000</td>\n",
       "      <td>2.000000</td>\n",
       "      <td>4549.000000</td>\n",
       "      <td>1276.000000</td>\n",
       "      <td>3474.000000</td>\n",
       "      <td>0.736000</td>\n",
       "      <td>3899.000000</td>\n",
       "      <td>67.000000</td>\n",
       "      <td>0.702000</td>\n",
       "      <td>0.176000</td>\n",
       "      <td>0.000181</td>\n",
       "      <td>0.999820</td>\n",
       "    </tr>\n",
       "    <tr>\n",
       "      <th>75%</th>\n",
       "      <td>7.731435e+08</td>\n",
       "      <td>52.000000</td>\n",
       "      <td>3.000000</td>\n",
       "      <td>40.000000</td>\n",
       "      <td>5.000000</td>\n",
       "      <td>3.000000</td>\n",
       "      <td>3.000000</td>\n",
       "      <td>11067.500000</td>\n",
       "      <td>1784.000000</td>\n",
       "      <td>9859.000000</td>\n",
       "      <td>0.859000</td>\n",
       "      <td>4741.000000</td>\n",
       "      <td>81.000000</td>\n",
       "      <td>0.818000</td>\n",
       "      <td>0.503000</td>\n",
       "      <td>0.000337</td>\n",
       "      <td>0.999900</td>\n",
       "    </tr>\n",
       "    <tr>\n",
       "      <th>max</th>\n",
       "      <td>8.283431e+08</td>\n",
       "      <td>73.000000</td>\n",
       "      <td>5.000000</td>\n",
       "      <td>56.000000</td>\n",
       "      <td>6.000000</td>\n",
       "      <td>6.000000</td>\n",
       "      <td>6.000000</td>\n",
       "      <td>34516.000000</td>\n",
       "      <td>2517.000000</td>\n",
       "      <td>34516.000000</td>\n",
       "      <td>3.397000</td>\n",
       "      <td>18484.000000</td>\n",
       "      <td>139.000000</td>\n",
       "      <td>3.714000</td>\n",
       "      <td>0.999000</td>\n",
       "      <td>0.999580</td>\n",
       "      <td>0.999990</td>\n",
       "    </tr>\n",
       "  </tbody>\n",
       "</table>\n",
       "</div>"
      ],
      "text/plain": [
       "          CLIENTNUM  Customer_Age  Dependent_count  Months_on_book  \\\n",
       "count  1.012700e+04  10127.000000     10127.000000    10127.000000   \n",
       "mean   7.391776e+08     46.325960         2.346203       35.928409   \n",
       "std    3.690378e+07      8.016814         1.298908        7.986416   \n",
       "min    7.080821e+08     26.000000         0.000000       13.000000   \n",
       "25%    7.130368e+08     41.000000         1.000000       31.000000   \n",
       "50%    7.179264e+08     46.000000         2.000000       36.000000   \n",
       "75%    7.731435e+08     52.000000         3.000000       40.000000   \n",
       "max    8.283431e+08     73.000000         5.000000       56.000000   \n",
       "\n",
       "       Total_Relationship_Count  Months_Inactive_12_mon  \\\n",
       "count              10127.000000            10127.000000   \n",
       "mean                   3.812580                2.341167   \n",
       "std                    1.554408                1.010622   \n",
       "min                    1.000000                0.000000   \n",
       "25%                    3.000000                2.000000   \n",
       "50%                    4.000000                2.000000   \n",
       "75%                    5.000000                3.000000   \n",
       "max                    6.000000                6.000000   \n",
       "\n",
       "       Contacts_Count_12_mon  Credit_Limit  Total_Revolving_Bal  \\\n",
       "count           10127.000000  10127.000000         10127.000000   \n",
       "mean                2.455317   8631.953698          1162.814061   \n",
       "std                 1.106225   9088.776650           814.987335   \n",
       "min                 0.000000   1438.300000             0.000000   \n",
       "25%                 2.000000   2555.000000           359.000000   \n",
       "50%                 2.000000   4549.000000          1276.000000   \n",
       "75%                 3.000000  11067.500000          1784.000000   \n",
       "max                 6.000000  34516.000000          2517.000000   \n",
       "\n",
       "       Avg_Open_To_Buy  Total_Amt_Chng_Q4_Q1  Total_Trans_Amt  Total_Trans_Ct  \\\n",
       "count     10127.000000          10127.000000     10127.000000    10127.000000   \n",
       "mean       7469.139637              0.759941      4404.086304       64.858695   \n",
       "std        9090.685324              0.219207      3397.129254       23.472570   \n",
       "min           3.000000              0.000000       510.000000       10.000000   \n",
       "25%        1324.500000              0.631000      2155.500000       45.000000   \n",
       "50%        3474.000000              0.736000      3899.000000       67.000000   \n",
       "75%        9859.000000              0.859000      4741.000000       81.000000   \n",
       "max       34516.000000              3.397000     18484.000000      139.000000   \n",
       "\n",
       "       Total_Ct_Chng_Q4_Q1  Avg_Utilization_Ratio  \\\n",
       "count         10127.000000           10127.000000   \n",
       "mean              0.712222               0.274894   \n",
       "std               0.238086               0.275691   \n",
       "min               0.000000               0.000000   \n",
       "25%               0.582000               0.023000   \n",
       "50%               0.702000               0.176000   \n",
       "75%               0.818000               0.503000   \n",
       "max               3.714000               0.999000   \n",
       "\n",
       "       Naive_Bayes_Classifier_Attrition_Flag_Card_Category_Contacts_Count_12_mon_Dependent_count_Education_Level_Months_Inactive_12_mon_1  \\\n",
       "count                                       10127.000000                                                                                    \n",
       "mean                                            0.159997                                                                                    \n",
       "std                                             0.365301                                                                                    \n",
       "min                                             0.000008                                                                                    \n",
       "25%                                             0.000099                                                                                    \n",
       "50%                                             0.000181                                                                                    \n",
       "75%                                             0.000337                                                                                    \n",
       "max                                             0.999580                                                                                    \n",
       "\n",
       "       Naive_Bayes_Classifier_Attrition_Flag_Card_Category_Contacts_Count_12_mon_Dependent_count_Education_Level_Months_Inactive_12_mon_2  \n",
       "count                                       10127.000000                                                                                   \n",
       "mean                                            0.840003                                                                                   \n",
       "std                                             0.365301                                                                                   \n",
       "min                                             0.000420                                                                                   \n",
       "25%                                             0.999660                                                                                   \n",
       "50%                                             0.999820                                                                                   \n",
       "75%                                             0.999900                                                                                   \n",
       "max                                             0.999990                                                                                   "
      ]
     },
     "execution_count": 12,
     "metadata": {},
     "output_type": "execute_result"
    }
   ],
   "source": [
    "df.describe()"
   ]
  },
  {
   "cell_type": "code",
   "execution_count": 13,
   "metadata": {},
   "outputs": [
    {
     "name": "stdout",
     "output_type": "stream",
     "text": [
      "<class 'pandas.core.frame.DataFrame'>\n",
      "RangeIndex: 10127 entries, 0 to 10126\n",
      "Data columns (total 23 columns):\n",
      " #   Column                                                                                                                              Non-Null Count  Dtype  \n",
      "---  ------                                                                                                                              --------------  -----  \n",
      " 0   CLIENTNUM                                                                                                                           10127 non-null  int64  \n",
      " 1   Attrition_Flag                                                                                                                      10127 non-null  object \n",
      " 2   Customer_Age                                                                                                                        10127 non-null  int64  \n",
      " 3   Gender                                                                                                                              10127 non-null  object \n",
      " 4   Dependent_count                                                                                                                     10127 non-null  int64  \n",
      " 5   Education_Level                                                                                                                     10127 non-null  object \n",
      " 6   Marital_Status                                                                                                                      10127 non-null  object \n",
      " 7   Income_Category                                                                                                                     10127 non-null  object \n",
      " 8   Card_Category                                                                                                                       10127 non-null  object \n",
      " 9   Months_on_book                                                                                                                      10127 non-null  int64  \n",
      " 10  Total_Relationship_Count                                                                                                            10127 non-null  int64  \n",
      " 11  Months_Inactive_12_mon                                                                                                              10127 non-null  int64  \n",
      " 12  Contacts_Count_12_mon                                                                                                               10127 non-null  int64  \n",
      " 13  Credit_Limit                                                                                                                        10127 non-null  float64\n",
      " 14  Total_Revolving_Bal                                                                                                                 10127 non-null  int64  \n",
      " 15  Avg_Open_To_Buy                                                                                                                     10127 non-null  float64\n",
      " 16  Total_Amt_Chng_Q4_Q1                                                                                                                10127 non-null  float64\n",
      " 17  Total_Trans_Amt                                                                                                                     10127 non-null  int64  \n",
      " 18  Total_Trans_Ct                                                                                                                      10127 non-null  int64  \n",
      " 19  Total_Ct_Chng_Q4_Q1                                                                                                                 10127 non-null  float64\n",
      " 20  Avg_Utilization_Ratio                                                                                                               10127 non-null  float64\n",
      " 21  Naive_Bayes_Classifier_Attrition_Flag_Card_Category_Contacts_Count_12_mon_Dependent_count_Education_Level_Months_Inactive_12_mon_1  10127 non-null  float64\n",
      " 22  Naive_Bayes_Classifier_Attrition_Flag_Card_Category_Contacts_Count_12_mon_Dependent_count_Education_Level_Months_Inactive_12_mon_2  10127 non-null  float64\n",
      "dtypes: float64(7), int64(10), object(6)\n",
      "memory usage: 1.8+ MB\n"
     ]
    }
   ],
   "source": [
    "df.info()"
   ]
  },
  {
   "cell_type": "code",
   "execution_count": 14,
   "metadata": {},
   "outputs": [
    {
     "data": {
      "text/html": [
       "<div>\n",
       "<style scoped>\n",
       "    .dataframe tbody tr th:only-of-type {\n",
       "        vertical-align: middle;\n",
       "    }\n",
       "\n",
       "    .dataframe tbody tr th {\n",
       "        vertical-align: top;\n",
       "    }\n",
       "\n",
       "    .dataframe thead th {\n",
       "        text-align: right;\n",
       "    }\n",
       "</style>\n",
       "<table border=\"1\" class=\"dataframe\">\n",
       "  <thead>\n",
       "    <tr style=\"text-align: right;\">\n",
       "      <th></th>\n",
       "      <th>Attrition_Flag</th>\n",
       "      <th>Gender</th>\n",
       "      <th>Education_Level</th>\n",
       "      <th>Marital_Status</th>\n",
       "      <th>Income_Category</th>\n",
       "      <th>Card_Category</th>\n",
       "    </tr>\n",
       "  </thead>\n",
       "  <tbody>\n",
       "    <tr>\n",
       "      <th>count</th>\n",
       "      <td>10127</td>\n",
       "      <td>10127</td>\n",
       "      <td>10127</td>\n",
       "      <td>10127</td>\n",
       "      <td>10127</td>\n",
       "      <td>10127</td>\n",
       "    </tr>\n",
       "    <tr>\n",
       "      <th>unique</th>\n",
       "      <td>2</td>\n",
       "      <td>2</td>\n",
       "      <td>7</td>\n",
       "      <td>4</td>\n",
       "      <td>6</td>\n",
       "      <td>4</td>\n",
       "    </tr>\n",
       "    <tr>\n",
       "      <th>top</th>\n",
       "      <td>Existing Customer</td>\n",
       "      <td>F</td>\n",
       "      <td>Graduate</td>\n",
       "      <td>Married</td>\n",
       "      <td>Less than $40K</td>\n",
       "      <td>Blue</td>\n",
       "    </tr>\n",
       "    <tr>\n",
       "      <th>freq</th>\n",
       "      <td>8500</td>\n",
       "      <td>5358</td>\n",
       "      <td>3128</td>\n",
       "      <td>4687</td>\n",
       "      <td>3561</td>\n",
       "      <td>9436</td>\n",
       "    </tr>\n",
       "  </tbody>\n",
       "</table>\n",
       "</div>"
      ],
      "text/plain": [
       "           Attrition_Flag Gender Education_Level Marital_Status  \\\n",
       "count               10127  10127           10127          10127   \n",
       "unique                  2      2               7              4   \n",
       "top     Existing Customer      F        Graduate        Married   \n",
       "freq                 8500   5358            3128           4687   \n",
       "\n",
       "       Income_Category Card_Category  \n",
       "count            10127         10127  \n",
       "unique               6             4  \n",
       "top     Less than $40K          Blue  \n",
       "freq              3561          9436  "
      ]
     },
     "execution_count": 14,
     "metadata": {},
     "output_type": "execute_result"
    }
   ],
   "source": [
    "df.describe(include=['O'])"
   ]
  },
  {
   "cell_type": "code",
   "execution_count": 15,
   "metadata": {},
   "outputs": [
    {
     "data": {
      "text/plain": [
       "array(['Existing Customer', 'Attrited Customer'], dtype=object)"
      ]
     },
     "execution_count": 15,
     "metadata": {},
     "output_type": "execute_result"
    }
   ],
   "source": [
    "df[\"Attrition_Flag\"].unique()"
   ]
  },
  {
   "cell_type": "code",
   "execution_count": 16,
   "metadata": {},
   "outputs": [
    {
     "data": {
      "image/png": "[encoded data removed]",
      "text/plain": [
       "<Figure size 800x400 with 1 Axes>"
      ]
     },
     "metadata": {},
     "output_type": "display_data"
    },
    {
     "data": {
      "image/png": "[encoded data removed]",
      "text/plain": [
       "<Figure size 800x400 with 1 Axes>"
      ]
     },
     "metadata": {},
     "output_type": "display_data"
    },
    {
     "data": {
      "image/png": "[encoded data removed]",
      "text/plain": [
       "<Figure size 800x400 with 1 Axes>"
      ]
     },
     "metadata": {},
     "output_type": "display_data"
    },
    {
     "data": {
      "image/png": "[encoded data removed]",
      "text/plain": [
       "<Figure size 800x400 with 1 Axes>"
      ]
     },
     "metadata": {},
     "output_type": "display_data"
    },
    {
     "data": {
      "image/png": "[encoded data removed]",
      "text/plain": [
       "<Figure size 800x400 with 1 Axes>"
      ]
     },
     "metadata": {},
     "output_type": "display_data"
    },
    {
     "data": {
      "image/png": "[encoded data removed]",
      "text/plain": [
       "<Figure size 800x400 with 1 Axes>"
      ]
     },
     "metadata": {},
     "output_type": "display_data"
    },
    {
     "data": {
      "image/png": "[encoded data removed]",
      "text/plain": [
       "<Figure size 800x400 with 1 Axes>"
      ]
     },
     "metadata": {},
     "output_type": "display_data"
    },
    {
     "data": {
      "image/png": "[encoded data removed]",
      "text/plain": [
       "<Figure size 800x400 with 1 Axes>"
      ]
     },
     "metadata": {},
     "output_type": "display_data"
    },
    {
     "data": {
      "image/png": "[encoded data removed]",
      "text/plain": [
       "<Figure size 800x400 with 1 Axes>"
      ]
     },
     "metadata": {},
     "output_type": "display_data"
    },
    {
     "data": {
      "image/png": "[encoded data removed]",
      "text/plain": [
       "<Figure size 800x400 with 1 Axes>"
      ]
     },
     "metadata": {},
     "output_type": "display_data"
    },
    {
     "data": {
      "image/png": "[encoded data removed]",
      "text/plain": [
       "<Figure size 800x400 with 1 Axes>"
      ]
     },
     "metadata": {},
     "output_type": "display_data"
    }
   ],
   "source": [
    "# List of numeric columns to analyze\n",
    "numeric_columns = [\n",
    "    'Customer_Age', 'Dependent_count', 'Months_on_book', 'Credit_Limit',\n",
    "    'Total_Revolving_Bal', 'Avg_Open_To_Buy', 'Total_Amt_Chng_Q4_Q1',\n",
    "    'Total_Trans_Amt', 'Total_Trans_Ct', 'Total_Ct_Chng_Q4_Q1', 'Avg_Utilization_Ratio'\n",
    "]\n",
    "\n",
    "# Loop through each numeric column and plot the distribution\n",
    "for col in numeric_columns:\n",
    "    plt.figure(figsize=(8, 4))\n",
    "    sns.histplot(df[col], kde=True, bins=30, color='darkblue')\n",
    "    plt.title(f'Distribution of {col}')\n",
    "    plt.xlabel(col)\n",
    "    plt.ylabel('Frequency')\n",
    "    plt.show()\n"
   ]
  },
  {
   "cell_type": "code",
   "execution_count": 17,
   "metadata": {},
   "outputs": [],
   "source": [
    "# # List of categorical columns to analyze\n",
    "# categorical_columns = [\n",
    "#     'Attrition_Flag', 'Gender', 'Education_Level',\n",
    "#     'Marital_Status', 'Income_Category', 'Card_Category'\n",
    "# ]\n",
    "\n",
    "# # Loop through each categorical column and plot count distributions\n",
    "# for col in categorical_columns:\n",
    "#     plt.figure(figsize=(8, 4))\n",
    "#     sns.countplot(x=col, data=df, palette=\"viridis\")\n",
    "#     plt.title(f'Count of {col}')\n",
    "#     plt.xlabel(col)\n",
    "#     plt.ylabel('Count')\n",
    "#     plt.xticks(rotation=45)\n",
    "#     plt.show()"
   ]
  },
  {
   "cell_type": "code",
   "execution_count": 18,
   "metadata": {},
   "outputs": [
    {
     "data": {
      "text/plain": [
       "<Axes: xlabel='Card_Category'>"
      ]
     },
     "execution_count": 18,
     "metadata": {},
     "output_type": "execute_result"
    },
    {
     "data": {
      "image/png": "[encoded data removed]",
      "text/plain": [
       "<Figure size 640x480 with 1 Axes>"
      ]
     },
     "metadata": {},
     "output_type": "display_data"
    }
   ],
   "source": [
    "df.Card_Category.value_counts().plot(kind='bar')"
   ]
  },
  {
   "cell_type": "code",
   "execution_count": 19,
   "metadata": {},
   "outputs": [
    {
     "data": {
      "image/png": "[encoded data removed]",
      "text/plain": [
       "<Figure size 1000x500 with 1 Axes>"
      ]
     },
     "metadata": {},
     "output_type": "display_data"
    }
   ],
   "source": [
    "plt.figure(figsize=(10,5))\n",
    "sns.countplot(x='Income_Category',data=df,palette='Blues_d',hue='Attrition_Flag');"
   ]
  },
  {
   "cell_type": "code",
   "execution_count": 20,
   "metadata": {},
   "outputs": [
    {
     "name": "stdout",
     "output_type": "stream",
     "text": [
      "Gender\n",
      "F    5358\n",
      "M    4769\n",
      "Name: count, dtype: int64\n",
      "Income_Category\n",
      "Less than $40K    3561\n",
      "$40K - $60K       1790\n",
      "$80K - $120K      1535\n",
      "$60K - $80K       1402\n",
      "Unknown           1112\n",
      "$120K +            727\n",
      "Name: count, dtype: int64\n",
      "Education_Level\n",
      "Graduate         3128\n",
      "High School      2013\n",
      "Unknown          1519\n",
      "Uneducated       1487\n",
      "College          1013\n",
      "Post-Graduate     516\n",
      "Doctorate         451\n",
      "Name: count, dtype: int64\n",
      "Marital_Status\n",
      "Married     4687\n",
      "Single      3943\n",
      "Unknown      749\n",
      "Divorced     748\n",
      "Name: count, dtype: int64\n"
     ]
    }
   ],
   "source": [
    "print(df['Gender'].value_counts())\n",
    "print(df['Income_Category'].value_counts())\n",
    "print(df['Education_Level'].value_counts())\n",
    "print(df['Marital_Status'].value_counts())"
   ]
  },
  {
   "cell_type": "markdown",
   "metadata": {},
   "source": [
    "# **Categorical Data**"
   ]
  },
  {
   "cell_type": "code",
   "execution_count": 21,
   "metadata": {},
   "outputs": [
    {
     "data": {
      "application/vnd.plotly.v1+json": {
       "config": {
        "plotlyServerURL": "https://plot.ly"
       },
       "data": [
        {
         "marker": {
          "color": [
           "purple",
           "blue",
           "purple",
           "blue"
          ]
         },
         "opacity": 0.75,
         "text": [
          "F",
          "M",
          "F",
          "M"
         ],
         "type": "bar",
         "x": [
          "Existing Customer",
          "Existing Customer",
          "Attrited Customer",
          "Attrited Customer"
         ],
         "y": {
          "bdata": "DAwMDAwMSkD08/Pz8/NHQElVRpOIlExAuKq5bHdrRUA=",
          "dtype": "f8"
         }
        }
       ],
       "layout": {
        "font": {
         "color": "white"
        },
        "height": 500,
        "paper_bgcolor": "rgba(32, 32, 32, 1)",
        "plot_bgcolor": "rgba(32, 32, 32, 1)",
        "template": {
         "data": {
          "bar": [
           {
            "error_x": {
             "color": "#2a3f5f"
            },
            "error_y": {
             "color": "#2a3f5f"
            },
            "marker": {
             "line": {
              "color": "#E5ECF6",
              "width": 0.5
             },
             "pattern": {
              "fillmode": "overlay",
              "size": 10,
              "solidity": 0.2
             }
            },
            "type": "bar"
           }
          ],
          "barpolar": [
           {
            "marker": {
             "line": {
              "color": "#E5ECF6",
              "width": 0.5
             },
             "pattern": {
              "fillmode": "overlay",
              "size": 10,
              "solidity": 0.2
             }
            },
            "type": "barpolar"
           }
          ],
          "carpet": [
           {
            "aaxis": {
             "endlinecolor": "#2a3f5f",
             "gridcolor": "white",
             "linecolor": "white",
             "minorgridcolor": "white",
             "startlinecolor": "#2a3f5f"
            },
            "baxis": {
             "endlinecolor": "#2a3f5f",
             "gridcolor": "white",
             "linecolor": "white",
             "minorgridcolor": "white",
             "startlinecolor": "#2a3f5f"
            },
            "type": "carpet"
           }
          ],
          "choropleth": [
           {
            "colorbar": {
             "outlinewidth": 0,
             "ticks": ""
            },
            "type": "choropleth"
           }
          ],
          "contour": [
           {
            "colorbar": {
             "outlinewidth": 0,
             "ticks": ""
            },
            "colorscale": [
             [
              0,
              "#0d0887"
             ],
             [
              0.1111111111111111,
              "#46039f"
             ],
             [
              0.2222222222222222,
              "#7201a8"
             ],
             [
              0.3333333333333333,
              "#9c179e"
             ],
             [
              0.4444444444444444,
              "#bd3786"
             ],
             [
              0.5555555555555556,
              "#d8576b"
             ],
             [
              0.6666666666666666,
              "#ed7953"
             ],
             [
              0.7777777777777778,
              "#fb9f3a"
             ],
             [
              0.8888888888888888,
              "#fdca26"
             ],
             [
              1,
              "#f0f921"
             ]
            ],
            "type": "contour"
           }
          ],
          "contourcarpet": [
           {
            "colorbar": {
             "outlinewidth": 0,
             "ticks": ""
            },
            "type": "contourcarpet"
           }
          ],
          "heatmap": [
           {
            "colorbar": {
             "outlinewidth": 0,
             "ticks": ""
            },
            "colorscale": [
             [
              0,
              "#0d0887"
             ],
             [
              0.1111111111111111,
              "#46039f"
             ],
             [
              0.2222222222222222,
              "#7201a8"
             ],
             [
              0.3333333333333333,
              "#9c179e"
             ],
             [
              0.4444444444444444,
              "#bd3786"
             ],
             [
              0.5555555555555556,
              "#d8576b"
             ],
             [
              0.6666666666666666,
              "#ed7953"
             ],
             [
              0.7777777777777778,
              "#fb9f3a"
             ],
             [
              0.8888888888888888,
              "#fdca26"
             ],
             [
              1,
              "#f0f921"
             ]
            ],
            "type": "heatmap"
           }
          ],
          "histogram": [
           {
            "marker": {
             "pattern": {
              "fillmode": "overlay",
              "size": 10,
              "solidity": 0.2
             }
            },
            "type": "histogram"
           }
          ],
          "histogram2d": [
           {
            "colorbar": {
             "outlinewidth": 0,
             "ticks": ""
            },
            "colorscale": [
             [
              0,
              "#0d0887"
             ],
             [
              0.1111111111111111,
              "#46039f"
             ],
             [
              0.2222222222222222,
              "#7201a8"
             ],
             [
              0.3333333333333333,
              "#9c179e"
             ],
             [
              0.4444444444444444,
              "#bd3786"
             ],
             [
              0.5555555555555556,
              "#d8576b"
             ],
             [
              0.6666666666666666,
              "#ed7953"
             ],
             [
              0.7777777777777778,
              "#fb9f3a"
             ],
             [
              0.8888888888888888,
              "#fdca26"
             ],
             [
              1,
              "#f0f921"
             ]
            ],
            "type": "histogram2d"
           }
          ],
          "histogram2dcontour": [
           {
            "colorbar": {
             "outlinewidth": 0,
             "ticks": ""
            },
            "colorscale": [
             [
              0,
              "#0d0887"
             ],
             [
              0.1111111111111111,
              "#46039f"
             ],
             [
              0.2222222222222222,
              "#7201a8"
             ],
             [
              0.3333333333333333,
              "#9c179e"
             ],
             [
              0.4444444444444444,
              "#bd3786"
             ],
             [
              0.5555555555555556,
              "#d8576b"
             ],
             [
              0.6666666666666666,
              "#ed7953"
             ],
             [
              0.7777777777777778,
              "#fb9f3a"
             ],
             [
              0.8888888888888888,
              "#fdca26"
             ],
             [
              1,
              "#f0f921"
             ]
            ],
            "type": "histogram2dcontour"
           }
          ],
          "mesh3d": [
           {
            "colorbar": {
             "outlinewidth": 0,
             "ticks": ""
            },
            "type": "mesh3d"
           }
          ],
          "parcoords": [
           {
            "line": {
             "colorbar": {
              "outlinewidth": 0,
              "ticks": ""
             }
            },
            "type": "parcoords"
           }
          ],
          "pie": [
           {
            "automargin": true,
            "type": "pie"
           }
          ],
          "scatter": [
           {
            "fillpattern": {
             "fillmode": "overlay",
             "size": 10,
             "solidity": 0.2
            },
            "type": "scatter"
           }
          ],
          "scatter3d": [
           {
            "line": {
             "colorbar": {
              "outlinewidth": 0,
              "ticks": ""
             }
            },
            "marker": {
             "colorbar": {
              "outlinewidth": 0,
              "ticks": ""
             }
            },
            "type": "scatter3d"
           }
          ],
          "scattercarpet": [
           {
            "marker": {
             "colorbar": {
              "outlinewidth": 0,
              "ticks": ""
             }
            },
            "type": "scattercarpet"
           }
          ],
          "scattergeo": [
           {
            "marker": {
             "colorbar": {
              "outlinewidth": 0,
              "ticks": ""
             }
            },
            "type": "scattergeo"
           }
          ],
          "scattergl": [
           {
            "marker": {
             "colorbar": {
              "outlinewidth": 0,
              "ticks": ""
             }
            },
            "type": "scattergl"
           }
          ],
          "scattermap": [
           {
            "marker": {
             "colorbar": {
              "outlinewidth": 0,
              "ticks": ""
             }
            },
            "type": "scattermap"
           }
          ],
          "scattermapbox": [
           {
            "marker": {
             "colorbar": {
              "outlinewidth": 0,
              "ticks": ""
             }
            },
            "type": "scattermapbox"
           }
          ],
          "scatterpolar": [
           {
            "marker": {
             "colorbar": {
              "outlinewidth": 0,
              "ticks": ""
             }
            },
            "type": "scatterpolar"
           }
          ],
          "scatterpolargl": [
           {
            "marker": {
             "colorbar": {
              "outlinewidth": 0,
              "ticks": ""
             }
            },
            "type": "scatterpolargl"
           }
          ],
          "scatterternary": [
           {
            "marker": {
             "colorbar": {
              "outlinewidth": 0,
              "ticks": ""
             }
            },
            "type": "scatterternary"
           }
          ],
          "surface": [
           {
            "colorbar": {
             "outlinewidth": 0,
             "ticks": ""
            },
            "colorscale": [
             [
              0,
              "#0d0887"
             ],
             [
              0.1111111111111111,
              "#46039f"
             ],
             [
              0.2222222222222222,
              "#7201a8"
             ],
             [
              0.3333333333333333,
              "#9c179e"
             ],
             [
              0.4444444444444444,
              "#bd3786"
             ],
             [
              0.5555555555555556,
              "#d8576b"
             ],
             [
              0.6666666666666666,
              "#ed7953"
             ],
             [
              0.7777777777777778,
              "#fb9f3a"
             ],
             [
              0.8888888888888888,
              "#fdca26"
             ],
             [
              1,
              "#f0f921"
             ]
            ],
            "type": "surface"
           }
          ],
          "table": [
           {
            "cells": {
             "fill": {
              "color": "#EBF0F8"
             },
             "line": {
              "color": "white"
             }
            },
            "header": {
             "fill": {
              "color": "#C8D4E3"
             },
             "line": {
              "color": "white"
             }
            },
            "type": "table"
           }
          ]
         },
         "layout": {
          "annotationdefaults": {
           "arrowcolor": "#2a3f5f",
           "arrowhead": 0,
           "arrowwidth": 1
          },
          "autotypenumbers": "strict",
          "coloraxis": {
           "colorbar": {
            "outlinewidth": 0,
            "ticks": ""
           }
          },
          "colorscale": {
           "diverging": [
            [
             0,
             "#8e0152"
            ],
            [
             0.1,
             "#c51b7d"
            ],
            [
             0.2,
             "#de77ae"
            ],
            [
             0.3,
             "#f1b6da"
            ],
            [
             0.4,
             "#fde0ef"
            ],
            [
             0.5,
             "#f7f7f7"
            ],
            [
             0.6,
             "#e6f5d0"
            ],
            [
             0.7,
             "#b8e186"
            ],
            [
             0.8,
             "#7fbc41"
            ],
            [
             0.9,
             "#4d9221"
            ],
            [
             1,
             "#276419"
            ]
           ],
           "sequential": [
            [
             0,
             "#0d0887"
            ],
            [
             0.1111111111111111,
             "#46039f"
            ],
            [
             0.2222222222222222,
             "#7201a8"
            ],
            [
             0.3333333333333333,
             "#9c179e"
            ],
            [
             0.4444444444444444,
             "#bd3786"
            ],
            [
             0.5555555555555556,
             "#d8576b"
            ],
            [
             0.6666666666666666,
             "#ed7953"
            ],
            [
             0.7777777777777778,
             "#fb9f3a"
            ],
            [
             0.8888888888888888,
             "#fdca26"
            ],
            [
             1,
             "#f0f921"
            ]
           ],
           "sequentialminus": [
            [
             0,
             "#0d0887"
            ],
            [
             0.1111111111111111,
             "#46039f"
            ],
            [
             0.2222222222222222,
             "#7201a8"
            ],
            [
             0.3333333333333333,
             "#9c179e"
            ],
            [
             0.4444444444444444,
             "#bd3786"
            ],
            [
             0.5555555555555556,
             "#d8576b"
            ],
            [
             0.6666666666666666,
             "#ed7953"
            ],
            [
             0.7777777777777778,
             "#fb9f3a"
            ],
            [
             0.8888888888888888,
             "#fdca26"
            ],
            [
             1,
             "#f0f921"
            ]
           ]
          },
          "colorway": [
           "#636efa",
           "#EF553B",
           "#00cc96",
           "#ab63fa",
           "#FFA15A",
           "#19d3f3",
           "#FF6692",
           "#B6E880",
           "#FF97FF",
           "#FECB52"
          ],
          "font": {
           "color": "#2a3f5f"
          },
          "geo": {
           "bgcolor": "white",
           "lakecolor": "white",
           "landcolor": "#E5ECF6",
           "showlakes": true,
           "showland": true,
           "subunitcolor": "white"
          },
          "hoverlabel": {
           "align": "left"
          },
          "hovermode": "closest",
          "mapbox": {
           "style": "light"
          },
          "paper_bgcolor": "white",
          "plot_bgcolor": "#E5ECF6",
          "polar": {
           "angularaxis": {
            "gridcolor": "white",
            "linecolor": "white",
            "ticks": ""
           },
           "bgcolor": "#E5ECF6",
           "radialaxis": {
            "gridcolor": "white",
            "linecolor": "white",
            "ticks": ""
           }
          },
          "scene": {
           "xaxis": {
            "backgroundcolor": "#E5ECF6",
            "gridcolor": "white",
            "gridwidth": 2,
            "linecolor": "white",
            "showbackground": true,
            "ticks": "",
            "zerolinecolor": "white"
           },
           "yaxis": {
            "backgroundcolor": "#E5ECF6",
            "gridcolor": "white",
            "gridwidth": 2,
            "linecolor": "white",
            "showbackground": true,
            "ticks": "",
            "zerolinecolor": "white"
           },
           "zaxis": {
            "backgroundcolor": "#E5ECF6",
            "gridcolor": "white",
            "gridwidth": 2,
            "linecolor": "white",
            "showbackground": true,
            "ticks": "",
            "zerolinecolor": "white"
           }
          },
          "shapedefaults": {
           "line": {
            "color": "#2a3f5f"
           }
          },
          "ternary": {
           "aaxis": {
            "gridcolor": "white",
            "linecolor": "white",
            "ticks": ""
           },
           "baxis": {
            "gridcolor": "white",
            "linecolor": "white",
            "ticks": ""
           },
           "bgcolor": "#E5ECF6",
           "caxis": {
            "gridcolor": "white",
            "linecolor": "white",
            "ticks": ""
           }
          },
          "title": {
           "x": 0.05
          },
          "xaxis": {
           "automargin": true,
           "gridcolor": "white",
           "linecolor": "white",
           "ticks": "",
           "title": {
            "standoff": 15
           },
           "zerolinecolor": "white",
           "zerolinewidth": 2
          },
          "yaxis": {
           "automargin": true,
           "gridcolor": "white",
           "linecolor": "white",
           "ticks": "",
           "title": {
            "standoff": 15
           },
           "zerolinecolor": "white",
           "zerolinewidth": 2
          }
         }
        },
        "title": {
         "text": "Percentage by Attrition Flag and Gender"
        },
        "width": 500,
        "xaxis": {
         "title": {
          "text": ""
         }
        },
        "yaxis": {
         "title": {
          "text": "Percentage (%)"
         }
        }
       }
      }
     },
     "metadata": {},
     "output_type": "display_data"
    }
   ],
   "source": [
    "gender_counts = df.groupby(['Attrition_Flag', 'Gender']).size().reset_index(name='counts')\n",
    "total_counts = df.groupby('Attrition_Flag').size().reset_index(name='total_counts')\n",
    "percentages = pd.merge(gender_counts, total_counts, on='Attrition_Flag')\n",
    "percentages['percentage'] = percentages['counts'] / percentages['total_counts'] * 100\n",
    "percentages = percentages.sort_values(by='total_counts', ascending=False)\n",
    "\n",
    "bar_data = go.Bar(\n",
    "    x=percentages['Attrition_Flag'], \n",
    "    y=percentages['percentage'], \n",
    "    text=percentages['Gender'],\n",
    "    opacity=0.75,\n",
    "    marker=dict(color=percentages['Gender'].map({'M': 'blue', 'F': 'purple'}))\n",
    ")\n",
    "\n",
    "fig = go.Figure(data=[bar_data])\n",
    "\n",
    "fig.update_layout(\n",
    "    title=\"Percentage by Attrition Flag and Gender\",\n",
    "    plot_bgcolor='rgba(32, 32, 32, 1)',\n",
    "    paper_bgcolor='rgba(32, 32, 32, 1)',\n",
    "    font=dict(color='white'),\n",
    "    xaxis_title=\"\",\n",
    "    yaxis_title=\"Percentage (%)\",\n",
    "    width=500,\n",
    "    height=500\n",
    ")\n",
    "\n",
    "# pio.write_image(fig=fig, file=\"Gender.png\", format='png')\n",
    "fig.show()"
   ]
  },
  {
   "cell_type": "code",
   "execution_count": 22,
   "metadata": {},
   "outputs": [
    {
     "data": {
      "application/vnd.plotly.v1+json": {
       "config": {
        "plotlyServerURL": "https://plot.ly"
       },
       "data": [
        {
         "alignmentgroup": "True",
         "hovertemplate": "Education_Level=College<br>Attrition_Flag=%{x}<br>percentage=%{y}<extra></extra>",
         "legendgroup": "College",
         "marker": {
          "color": "#636efa",
          "opacity": 0.75,
          "pattern": {
           "shape": ""
          }
         },
         "name": "College",
         "offsetgroup": "College",
         "orientation": "v",
         "showlegend": true,
         "textposition": "auto",
         "type": "bar",
         "x": [
          "Existing Customer",
          "Attrited Customer"
         ],
         "xaxis": "x",
         "y": {
          "bdata": "NzY2NjY2JECXOVZUOO4iQA==",
          "dtype": "f8"
         },
         "yaxis": "y"
        },
        {
         "alignmentgroup": "True",
         "hovertemplate": "Education_Level=Doctorate<br>Attrition_Flag=%{x}<br>percentage=%{y}<extra></extra>",
         "legendgroup": "Doctorate",
         "marker": {
          "color": "#EF553B",
          "opacity": 0.75,
          "pattern": {
           "shape": ""
          }
         },
         "name": "Doctorate",
         "offsetgroup": "Doctorate",
         "orientation": "v",
         "showlegend": true,
         "textposition": "auto",
         "type": "bar",
         "x": [
          "Existing Customer",
          "Attrited Customer"
         ],
         "xaxis": "x",
         "y": {
          "bdata": "wMDAwMDAEEAoH85GGlsXQA==",
          "dtype": "f8"
         },
         "yaxis": "y"
        },
        {
         "alignmentgroup": "True",
         "hovertemplate": "Education_Level=Graduate<br>Attrition_Flag=%{x}<br>percentage=%{y}<extra></extra>",
         "legendgroup": "Graduate",
         "marker": {
          "color": "#00cc96",
          "opacity": 0.75,
          "pattern": {
           "shape": ""
          }
         },
         "name": "Graduate",
         "offsetgroup": "Graduate",
         "orientation": "v",
         "showlegend": true,
         "textposition": "auto",
         "type": "bar",
         "x": [
          "Existing Customer",
          "Attrited Customer"
         ],
         "xaxis": "x",
         "y": {
          "bdata": "EhISEhISP0CKopUrse49QA==",
          "dtype": "f8"
         },
         "yaxis": "y"
        },
        {
         "alignmentgroup": "True",
         "hovertemplate": "Education_Level=High School<br>Attrition_Flag=%{x}<br>percentage=%{y}<extra></extra>",
         "legendgroup": "High School",
         "marker": {
          "color": "#ab63fa",
          "opacity": 0.75,
          "pattern": {
           "shape": ""
          }
         },
         "name": "High School",
         "offsetgroup": "High School",
         "orientation": "v",
         "showlegend": true,
         "textposition": "auto",
         "type": "bar",
         "x": [
          "Existing Customer",
          "Attrited Customer"
         ],
         "xaxis": "x",
         "y": {
          "bdata": "FRUVFRUVNECoj31GwM4yQA==",
          "dtype": "f8"
         },
         "yaxis": "y"
        },
        {
         "alignmentgroup": "True",
         "hovertemplate": "Education_Level=Post-Graduate<br>Attrition_Flag=%{x}<br>percentage=%{y}<extra></extra>",
         "legendgroup": "Post-Graduate",
         "marker": {
          "color": "#FFA15A",
          "opacity": 0.75,
          "pattern": {
           "shape": ""
          }
         },
         "name": "Post-Graduate",
         "offsetgroup": "Post-Graduate",
         "orientation": "v",
         "showlegend": true,
         "textposition": "auto",
         "type": "bar",
         "x": [
          "Existing Customer",
          "Attrited Customer"
         ],
         "xaxis": "x",
         "y": {
          "bdata": "9PPz8/PzE0CPI7rzSZ4WQA==",
          "dtype": "f8"
         },
         "yaxis": "y"
        },
        {
         "alignmentgroup": "True",
         "hovertemplate": "Education_Level=Uneducated<br>Attrition_Flag=%{x}<br>percentage=%{y}<extra></extra>",
         "legendgroup": "Uneducated",
         "marker": {
          "color": "#19d3f3",
          "opacity": 0.75,
          "pattern": {
           "shape": ""
          }
         },
         "name": "Uneducated",
         "offsetgroup": "Uneducated",
         "orientation": "v",
         "showlegend": true,
         "textposition": "auto",
         "type": "bar",
         "x": [
          "Existing Customer",
          "Attrited Customer"
         ],
         "xaxis": "x",
         "y": {
          "bdata": "amlpaWlpLUD6UZXRJCItQA==",
          "dtype": "f8"
         },
         "yaxis": "y"
        },
        {
         "alignmentgroup": "True",
         "hovertemplate": "Education_Level=Unknown<br>Attrition_Flag=%{x}<br>percentage=%{y}<extra></extra>",
         "legendgroup": "Unknown",
         "marker": {
          "color": "#FF6692",
          "opacity": 0.75,
          "pattern": {
           "shape": ""
          }
         },
         "name": "Unknown",
         "offsetgroup": "Unknown",
         "orientation": "v",
         "showlegend": true,
         "textposition": "auto",
         "type": "bar",
         "x": [
          "Existing Customer",
          "Attrited Customer"
         ],
         "xaxis": "x",
         "y": {
          "bdata": "uLe3t7e3LUCw7qnYDXgvQA==",
          "dtype": "f8"
         },
         "yaxis": "y"
        }
       ],
       "layout": {
        "barmode": "group",
        "font": {
         "color": "white"
        },
        "height": 500,
        "legend": {
         "title": {
          "text": "Education Level"
         },
         "tracegroupgap": 0
        },
        "margin": {
         "t": 60
        },
        "paper_bgcolor": "rgba(32, 32, 32, 1)",
        "plot_bgcolor": "rgba(32, 32, 32, 1)",
        "template": {
         "data": {
          "bar": [
           {
            "error_x": {
             "color": "#2a3f5f"
            },
            "error_y": {
             "color": "#2a3f5f"
            },
            "marker": {
             "line": {
              "color": "#E5ECF6",
              "width": 0.5
             },
             "pattern": {
              "fillmode": "overlay",
              "size": 10,
              "solidity": 0.2
             }
            },
            "type": "bar"
           }
          ],
          "barpolar": [
           {
            "marker": {
             "line": {
              "color": "#E5ECF6",
              "width": 0.5
             },
             "pattern": {
              "fillmode": "overlay",
              "size": 10,
              "solidity": 0.2
             }
            },
            "type": "barpolar"
           }
          ],
          "carpet": [
           {
            "aaxis": {
             "endlinecolor": "#2a3f5f",
             "gridcolor": "white",
             "linecolor": "white",
             "minorgridcolor": "white",
             "startlinecolor": "#2a3f5f"
            },
            "baxis": {
             "endlinecolor": "#2a3f5f",
             "gridcolor": "white",
             "linecolor": "white",
             "minorgridcolor": "white",
             "startlinecolor": "#2a3f5f"
            },
            "type": "carpet"
           }
          ],
          "choropleth": [
           {
            "colorbar": {
             "outlinewidth": 0,
             "ticks": ""
            },
            "type": "choropleth"
           }
          ],
          "contour": [
           {
            "colorbar": {
             "outlinewidth": 0,
             "ticks": ""
            },
            "colorscale": [
             [
              0,
              "#0d0887"
             ],
             [
              0.1111111111111111,
              "#46039f"
             ],
             [
              0.2222222222222222,
              "#7201a8"
             ],
             [
              0.3333333333333333,
              "#9c179e"
             ],
             [
              0.4444444444444444,
              "#bd3786"
             ],
             [
              0.5555555555555556,
              "#d8576b"
             ],
             [
              0.6666666666666666,
              "#ed7953"
             ],
             [
              0.7777777777777778,
              "#fb9f3a"
             ],
             [
              0.8888888888888888,
              "#fdca26"
             ],
             [
              1,
              "#f0f921"
             ]
            ],
            "type": "contour"
           }
          ],
          "contourcarpet": [
           {
            "colorbar": {
             "outlinewidth": 0,
             "ticks": ""
            },
            "type": "contourcarpet"
           }
          ],
          "heatmap": [
           {
            "colorbar": {
             "outlinewidth": 0,
             "ticks": ""
            },
            "colorscale": [
             [
              0,
              "#0d0887"
             ],
             [
              0.1111111111111111,
              "#46039f"
             ],
             [
              0.2222222222222222,
              "#7201a8"
             ],
             [
              0.3333333333333333,
              "#9c179e"
             ],
             [
              0.4444444444444444,
              "#bd3786"
             ],
             [
              0.5555555555555556,
              "#d8576b"
             ],
             [
              0.6666666666666666,
              "#ed7953"
             ],
             [
              0.7777777777777778,
              "#fb9f3a"
             ],
             [
              0.8888888888888888,
              "#fdca26"
             ],
             [
              1,
              "#f0f921"
             ]
            ],
            "type": "heatmap"
           }
          ],
          "histogram": [
           {
            "marker": {
             "pattern": {
              "fillmode": "overlay",
              "size": 10,
              "solidity": 0.2
             }
            },
            "type": "histogram"
           }
          ],
          "histogram2d": [
           {
            "colorbar": {
             "outlinewidth": 0,
             "ticks": ""
            },
            "colorscale": [
             [
              0,
              "#0d0887"
             ],
             [
              0.1111111111111111,
              "#46039f"
             ],
             [
              0.2222222222222222,
              "#7201a8"
             ],
             [
              0.3333333333333333,
              "#9c179e"
             ],
             [
              0.4444444444444444,
              "#bd3786"
             ],
             [
              0.5555555555555556,
              "#d8576b"
             ],
             [
              0.6666666666666666,
              "#ed7953"
             ],
             [
              0.7777777777777778,
              "#fb9f3a"
             ],
             [
              0.8888888888888888,
              "#fdca26"
             ],
             [
              1,
              "#f0f921"
             ]
            ],
            "type": "histogram2d"
           }
          ],
          "histogram2dcontour": [
           {
            "colorbar": {
             "outlinewidth": 0,
             "ticks": ""
            },
            "colorscale": [
             [
              0,
              "#0d0887"
             ],
             [
              0.1111111111111111,
              "#46039f"
             ],
             [
              0.2222222222222222,
              "#7201a8"
             ],
             [
              0.3333333333333333,
              "#9c179e"
             ],
             [
              0.4444444444444444,
              "#bd3786"
             ],
             [
              0.5555555555555556,
              "#d8576b"
             ],
             [
              0.6666666666666666,
              "#ed7953"
             ],
             [
              0.7777777777777778,
              "#fb9f3a"
             ],
             [
              0.8888888888888888,
              "#fdca26"
             ],
             [
              1,
              "#f0f921"
             ]
            ],
            "type": "histogram2dcontour"
           }
          ],
          "mesh3d": [
           {
            "colorbar": {
             "outlinewidth": 0,
             "ticks": ""
            },
            "type": "mesh3d"
           }
          ],
          "parcoords": [
           {
            "line": {
             "colorbar": {
              "outlinewidth": 0,
              "ticks": ""
             }
            },
            "type": "parcoords"
           }
          ],
          "pie": [
           {
            "automargin": true,
            "type": "pie"
           }
          ],
          "scatter": [
           {
            "fillpattern": {
             "fillmode": "overlay",
             "size": 10,
             "solidity": 0.2
            },
            "type": "scatter"
           }
          ],
          "scatter3d": [
           {
            "line": {
             "colorbar": {
              "outlinewidth": 0,
              "ticks": ""
             }
            },
            "marker": {
             "colorbar": {
              "outlinewidth": 0,
              "ticks": ""
             }
            },
            "type": "scatter3d"
           }
          ],
          "scattercarpet": [
           {
            "marker": {
             "colorbar": {
              "outlinewidth": 0,
              "ticks": ""
             }
            },
            "type": "scattercarpet"
           }
          ],
          "scattergeo": [
           {
            "marker": {
             "colorbar": {
              "outlinewidth": 0,
              "ticks": ""
             }
            },
            "type": "scattergeo"
           }
          ],
          "scattergl": [
           {
            "marker": {
             "colorbar": {
              "outlinewidth": 0,
              "ticks": ""
             }
            },
            "type": "scattergl"
           }
          ],
          "scattermap": [
           {
            "marker": {
             "colorbar": {
              "outlinewidth": 0,
              "ticks": ""
             }
            },
            "type": "scattermap"
           }
          ],
          "scattermapbox": [
           {
            "marker": {
             "colorbar": {
              "outlinewidth": 0,
              "ticks": ""
             }
            },
            "type": "scattermapbox"
           }
          ],
          "scatterpolar": [
           {
            "marker": {
             "colorbar": {
              "outlinewidth": 0,
              "ticks": ""
             }
            },
            "type": "scatterpolar"
           }
          ],
          "scatterpolargl": [
           {
            "marker": {
             "colorbar": {
              "outlinewidth": 0,
              "ticks": ""
             }
            },
            "type": "scatterpolargl"
           }
          ],
          "scatterternary": [
           {
            "marker": {
             "colorbar": {
              "outlinewidth": 0,
              "ticks": ""
             }
            },
            "type": "scatterternary"
           }
          ],
          "surface": [
           {
            "colorbar": {
             "outlinewidth": 0,
             "ticks": ""
            },
            "colorscale": [
             [
              0,
              "#0d0887"
             ],
             [
              0.1111111111111111,
              "#46039f"
             ],
             [
              0.2222222222222222,
              "#7201a8"
             ],
             [
              0.3333333333333333,
              "#9c179e"
             ],
             [
              0.4444444444444444,
              "#bd3786"
             ],
             [
              0.5555555555555556,
              "#d8576b"
             ],
             [
              0.6666666666666666,
              "#ed7953"
             ],
             [
              0.7777777777777778,
              "#fb9f3a"
             ],
             [
              0.8888888888888888,
              "#fdca26"
             ],
             [
              1,
              "#f0f921"
             ]
            ],
            "type": "surface"
           }
          ],
          "table": [
           {
            "cells": {
             "fill": {
              "color": "#EBF0F8"
             },
             "line": {
              "color": "white"
             }
            },
            "header": {
             "fill": {
              "color": "#C8D4E3"
             },
             "line": {
              "color": "white"
             }
            },
            "type": "table"
           }
          ]
         },
         "layout": {
          "annotationdefaults": {
           "arrowcolor": "#2a3f5f",
           "arrowhead": 0,
           "arrowwidth": 1
          },
          "autotypenumbers": "strict",
          "coloraxis": {
           "colorbar": {
            "outlinewidth": 0,
            "ticks": ""
           }
          },
          "colorscale": {
           "diverging": [
            [
             0,
             "#8e0152"
            ],
            [
             0.1,
             "#c51b7d"
            ],
            [
             0.2,
             "#de77ae"
            ],
            [
             0.3,
             "#f1b6da"
            ],
            [
             0.4,
             "#fde0ef"
            ],
            [
             0.5,
             "#f7f7f7"
            ],
            [
             0.6,
             "#e6f5d0"
            ],
            [
             0.7,
             "#b8e186"
            ],
            [
             0.8,
             "#7fbc41"
            ],
            [
             0.9,
             "#4d9221"
            ],
            [
             1,
             "#276419"
            ]
           ],
           "sequential": [
            [
             0,
             "#0d0887"
            ],
            [
             0.1111111111111111,
             "#46039f"
            ],
            [
             0.2222222222222222,
             "#7201a8"
            ],
            [
             0.3333333333333333,
             "#9c179e"
            ],
            [
             0.4444444444444444,
             "#bd3786"
            ],
            [
             0.5555555555555556,
             "#d8576b"
            ],
            [
             0.6666666666666666,
             "#ed7953"
            ],
            [
             0.7777777777777778,
             "#fb9f3a"
            ],
            [
             0.8888888888888888,
             "#fdca26"
            ],
            [
             1,
             "#f0f921"
            ]
           ],
           "sequentialminus": [
            [
             0,
             "#0d0887"
            ],
            [
             0.1111111111111111,
             "#46039f"
            ],
            [
             0.2222222222222222,
             "#7201a8"
            ],
            [
             0.3333333333333333,
             "#9c179e"
            ],
            [
             0.4444444444444444,
             "#bd3786"
            ],
            [
             0.5555555555555556,
             "#d8576b"
            ],
            [
             0.6666666666666666,
             "#ed7953"
            ],
            [
             0.7777777777777778,
             "#fb9f3a"
            ],
            [
             0.8888888888888888,
             "#fdca26"
            ],
            [
             1,
             "#f0f921"
            ]
           ]
          },
          "colorway": [
           "#636efa",
           "#EF553B",
           "#00cc96",
           "#ab63fa",
           "#FFA15A",
           "#19d3f3",
           "#FF6692",
           "#B6E880",
           "#FF97FF",
           "#FECB52"
          ],
          "font": {
           "color": "#2a3f5f"
          },
          "geo": {
           "bgcolor": "white",
           "lakecolor": "white",
           "landcolor": "#E5ECF6",
           "showlakes": true,
           "showland": true,
           "subunitcolor": "white"
          },
          "hoverlabel": {
           "align": "left"
          },
          "hovermode": "closest",
          "mapbox": {
           "style": "light"
          },
          "paper_bgcolor": "white",
          "plot_bgcolor": "#E5ECF6",
          "polar": {
           "angularaxis": {
            "gridcolor": "white",
            "linecolor": "white",
            "ticks": ""
           },
           "bgcolor": "#E5ECF6",
           "radialaxis": {
            "gridcolor": "white",
            "linecolor": "white",
            "ticks": ""
           }
          },
          "scene": {
           "xaxis": {
            "backgroundcolor": "#E5ECF6",
            "gridcolor": "white",
            "gridwidth": 2,
            "linecolor": "white",
            "showbackground": true,
            "ticks": "",
            "zerolinecolor": "white"
           },
           "yaxis": {
            "backgroundcolor": "#E5ECF6",
            "gridcolor": "white",
            "gridwidth": 2,
            "linecolor": "white",
            "showbackground": true,
            "ticks": "",
            "zerolinecolor": "white"
           },
           "zaxis": {
            "backgroundcolor": "#E5ECF6",
            "gridcolor": "white",
            "gridwidth": 2,
            "linecolor": "white",
            "showbackground": true,
            "ticks": "",
            "zerolinecolor": "white"
           }
          },
          "shapedefaults": {
           "line": {
            "color": "#2a3f5f"
           }
          },
          "ternary": {
           "aaxis": {
            "gridcolor": "white",
            "linecolor": "white",
            "ticks": ""
           },
           "baxis": {
            "gridcolor": "white",
            "linecolor": "white",
            "ticks": ""
           },
           "bgcolor": "#E5ECF6",
           "caxis": {
            "gridcolor": "white",
            "linecolor": "white",
            "ticks": ""
           }
          },
          "title": {
           "x": 0.05
          },
          "xaxis": {
           "automargin": true,
           "gridcolor": "white",
           "linecolor": "white",
           "ticks": "",
           "title": {
            "standoff": 15
           },
           "zerolinecolor": "white",
           "zerolinewidth": 2
          },
          "yaxis": {
           "automargin": true,
           "gridcolor": "white",
           "linecolor": "white",
           "ticks": "",
           "title": {
            "standoff": 15
           },
           "zerolinecolor": "white",
           "zerolinewidth": 2
          }
         }
        },
        "title": {
         "text": "Percentage by Attrition Flag and Education Level"
        },
        "width": 600,
        "xaxis": {
         "anchor": "y",
         "domain": [
          0,
          1
         ],
         "title": {
          "text": ""
         }
        },
        "yaxis": {
         "anchor": "x",
         "domain": [
          0,
          1
         ],
         "title": {
          "text": "Percentage (%)"
         }
        }
       }
      }
     },
     "metadata": {},
     "output_type": "display_data"
    }
   ],
   "source": [
    "counts = df.groupby(['Attrition_Flag', 'Education_Level']).size().reset_index(name='counts')\n",
    "percentages = pd.merge(counts, total_counts, on='Attrition_Flag')\n",
    "percentages['percentage'] = percentages['counts'] / percentages['total_counts'] * 100\n",
    "percentages = percentages.sort_values(by='total_counts', ascending=False)\n",
    "\n",
    "fig = px.bar(\n",
    "    percentages, \n",
    "    x='Attrition_Flag', \n",
    "    y='percentage', \n",
    "    color='Education_Level', \n",
    "    barmode='group',\n",
    "    opacity=0.75\n",
    "    # text='percentage'\n",
    ")\n",
    "\n",
    "fig.update_layout(\n",
    "    title=\"Percentage by Attrition Flag and Education Level\",\n",
    "    plot_bgcolor='rgba(32, 32, 32, 1)',\n",
    "    paper_bgcolor='rgba(32, 32, 32, 1)',\n",
    "    font=dict(color='white'),\n",
    "    xaxis_title=\"\",\n",
    "    yaxis_title=\"Percentage (%)\",\n",
    "    legend_title_text='Education Level',\n",
    "    width=600,\n",
    "    height=500\n",
    ")\n",
    "\n",
    "# pio.write_image(fig=fig, file=\"Education_Level.png\", format='png')\n",
    "fig.show()"
   ]
  },
  {
   "cell_type": "code",
   "execution_count": 23,
   "metadata": {},
   "outputs": [
    {
     "data": {
      "application/vnd.plotly.v1+json": {
       "config": {
        "plotlyServerURL": "https://plot.ly"
       },
       "data": [
        {
         "alignmentgroup": "True",
         "hovertemplate": "Income_Category_Clean=Above 120K<br>Attrition_Flag=%{x}<br>percentage=%{y}<extra></extra>",
         "legendgroup": "Above 120K",
         "marker": {
          "color": "#636efa",
          "opacity": 0.75,
          "pattern": {
           "shape": ""
          }
         },
         "name": "Above 120K",
         "offsetgroup": "Above 120K",
         "orientation": "v",
         "showlegend": true,
         "textposition": "auto",
         "type": "bar",
         "x": [
          "Existing Customer",
          "Attrited Customer"
         ],
         "xaxis": "x",
         "y": {
          "bdata": "SEhISEhIHED2RkehLfoeQA==",
          "dtype": "f8"
         },
         "yaxis": "y"
        },
        {
         "alignmentgroup": "True",
         "hovertemplate": "Income_Category_Clean=40K to 60K<br>Attrition_Flag=%{x}<br>percentage=%{y}<extra></extra>",
         "legendgroup": "40K to 60K",
         "marker": {
          "color": "#EF553B",
          "opacity": 0.75,
          "pattern": {
           "shape": ""
          }
         },
         "name": "40K to 60K",
         "offsetgroup": "40K to 60K",
         "orientation": "v",
         "showlegend": true,
         "textposition": "auto",
         "type": "bar",
         "x": [
          "Existing Customer",
          "Attrited Customer"
         ],
         "xaxis": "x",
         "y": {
          "bdata": "397e3t7eMUDX8S1UC6gwQA==",
          "dtype": "f8"
         },
         "yaxis": "y"
        },
        {
         "alignmentgroup": "True",
         "hovertemplate": "Income_Category_Clean=60K to 80K<br>Attrition_Flag=%{x}<br>percentage=%{y}<extra></extra>",
         "legendgroup": "60K to 80K",
         "marker": {
          "color": "#00cc96",
          "opacity": 0.75,
          "pattern": {
           "shape": ""
          }
         },
         "name": "60K to 80K",
         "offsetgroup": "60K to 80K",
         "orientation": "v",
         "showlegend": true,
         "textposition": "auto",
         "type": "bar",
         "x": [
          "Existing Customer",
          "Attrited Customer"
         ],
         "xaxis": "x",
         "y": {
          "bdata": "i4qKioqKLEA4dfU4ojsnQA==",
          "dtype": "f8"
         },
         "yaxis": "y"
        },
        {
         "alignmentgroup": "True",
         "hovertemplate": "Income_Category_Clean=80K to 120K<br>Attrition_Flag=%{x}<br>percentage=%{y}<extra></extra>",
         "legendgroup": "80K to 120K",
         "marker": {
          "color": "#ab63fa",
          "opacity": 0.75,
          "pattern": {
           "shape": ""
          }
         },
         "name": "80K to 120K",
         "offsetgroup": "80K to 120K",
         "orientation": "v",
         "showlegend": true,
         "textposition": "auto",
         "type": "bar",
         "x": [
          "Existing Customer",
          "Attrited Customer"
         ],
         "xaxis": "x",
         "y": {
          "bdata": "bGxsbGxsLkCko9AWfb8tQA==",
          "dtype": "f8"
         },
         "yaxis": "y"
        },
        {
         "alignmentgroup": "True",
         "hovertemplate": "Income_Category_Clean=Less than 40K<br>Attrition_Flag=%{x}<br>percentage=%{y}<extra></extra>",
         "legendgroup": "Less than 40K",
         "marker": {
          "color": "#FFA15A",
          "opacity": 0.75,
          "pattern": {
           "shape": ""
          }
         },
         "name": "Less than 40K",
         "offsetgroup": "Less than 40K",
         "orientation": "v",
         "showlegend": true,
         "textposition": "auto",
         "type": "bar",
         "x": [
          "Existing Customer",
          "Attrited Customer"
         ],
         "xaxis": "x",
         "y": {
          "bdata": "2djY2NhYQUCoj31GwM5CQA==",
          "dtype": "f8"
         },
         "yaxis": "y"
        },
        {
         "alignmentgroup": "True",
         "hovertemplate": "Income_Category_Clean=Unknown<br>Attrition_Flag=%{x}<br>percentage=%{y}<extra></extra>",
         "legendgroup": "Unknown",
         "marker": {
          "color": "#19d3f3",
          "opacity": 0.75,
          "pattern": {
           "shape": ""
          }
         },
         "name": "Unknown",
         "offsetgroup": "Unknown",
         "orientation": "v",
         "showlegend": true,
         "textposition": "auto",
         "type": "bar",
         "x": [
          "Existing Customer",
          "Attrited Customer"
         ],
         "xaxis": "x",
         "y": {
          "bdata": "xMPDw8PDJUBbIUQdsvwmQA==",
          "dtype": "f8"
         },
         "yaxis": "y"
        }
       ],
       "layout": {
        "barmode": "group",
        "font": {
         "color": "white"
        },
        "height": 500,
        "legend": {
         "title": {
          "text": "Income Category"
         },
         "tracegroupgap": 0
        },
        "margin": {
         "t": 60
        },
        "paper_bgcolor": "rgba(32, 32, 32, 1)",
        "plot_bgcolor": "rgba(32, 32, 32, 1)",
        "template": {
         "data": {
          "bar": [
           {
            "error_x": {
             "color": "#2a3f5f"
            },
            "error_y": {
             "color": "#2a3f5f"
            },
            "marker": {
             "line": {
              "color": "#E5ECF6",
              "width": 0.5
             },
             "pattern": {
              "fillmode": "overlay",
              "size": 10,
              "solidity": 0.2
             }
            },
            "type": "bar"
           }
          ],
          "barpolar": [
           {
            "marker": {
             "line": {
              "color": "#E5ECF6",
              "width": 0.5
             },
             "pattern": {
              "fillmode": "overlay",
              "size": 10,
              "solidity": 0.2
             }
            },
            "type": "barpolar"
           }
          ],
          "carpet": [
           {
            "aaxis": {
             "endlinecolor": "#2a3f5f",
             "gridcolor": "white",
             "linecolor": "white",
             "minorgridcolor": "white",
             "startlinecolor": "#2a3f5f"
            },
            "baxis": {
             "endlinecolor": "#2a3f5f",
             "gridcolor": "white",
             "linecolor": "white",
             "minorgridcolor": "white",
             "startlinecolor": "#2a3f5f"
            },
            "type": "carpet"
           }
          ],
          "choropleth": [
           {
            "colorbar": {
             "outlinewidth": 0,
             "ticks": ""
            },
            "type": "choropleth"
           }
          ],
          "contour": [
           {
            "colorbar": {
             "outlinewidth": 0,
             "ticks": ""
            },
            "colorscale": [
             [
              0,
              "#0d0887"
             ],
             [
              0.1111111111111111,
              "#46039f"
             ],
             [
              0.2222222222222222,
              "#7201a8"
             ],
             [
              0.3333333333333333,
              "#9c179e"
             ],
             [
              0.4444444444444444,
              "#bd3786"
             ],
             [
              0.5555555555555556,
              "#d8576b"
             ],
             [
              0.6666666666666666,
              "#ed7953"
             ],
             [
              0.7777777777777778,
              "#fb9f3a"
             ],
             [
              0.8888888888888888,
              "#fdca26"
             ],
             [
              1,
              "#f0f921"
             ]
            ],
            "type": "contour"
           }
          ],
          "contourcarpet": [
           {
            "colorbar": {
             "outlinewidth": 0,
             "ticks": ""
            },
            "type": "contourcarpet"
           }
          ],
          "heatmap": [
           {
            "colorbar": {
             "outlinewidth": 0,
             "ticks": ""
            },
            "colorscale": [
             [
              0,
              "#0d0887"
             ],
             [
              0.1111111111111111,
              "#46039f"
             ],
             [
              0.2222222222222222,
              "#7201a8"
             ],
             [
              0.3333333333333333,
              "#9c179e"
             ],
             [
              0.4444444444444444,
              "#bd3786"
             ],
             [
              0.5555555555555556,
              "#d8576b"
             ],
             [
              0.6666666666666666,
              "#ed7953"
             ],
             [
              0.7777777777777778,
              "#fb9f3a"
             ],
             [
              0.8888888888888888,
              "#fdca26"
             ],
             [
              1,
              "#f0f921"
             ]
            ],
            "type": "heatmap"
           }
          ],
          "histogram": [
           {
            "marker": {
             "pattern": {
              "fillmode": "overlay",
              "size": 10,
              "solidity": 0.2
             }
            },
            "type": "histogram"
           }
          ],
          "histogram2d": [
           {
            "colorbar": {
             "outlinewidth": 0,
             "ticks": ""
            },
            "colorscale": [
             [
              0,
              "#0d0887"
             ],
             [
              0.1111111111111111,
              "#46039f"
             ],
             [
              0.2222222222222222,
              "#7201a8"
             ],
             [
              0.3333333333333333,
              "#9c179e"
             ],
             [
              0.4444444444444444,
              "#bd3786"
             ],
             [
              0.5555555555555556,
              "#d8576b"
             ],
             [
              0.6666666666666666,
              "#ed7953"
             ],
             [
              0.7777777777777778,
              "#fb9f3a"
             ],
             [
              0.8888888888888888,
              "#fdca26"
             ],
             [
              1,
              "#f0f921"
             ]
            ],
            "type": "histogram2d"
           }
          ],
          "histogram2dcontour": [
           {
            "colorbar": {
             "outlinewidth": 0,
             "ticks": ""
            },
            "colorscale": [
             [
              0,
              "#0d0887"
             ],
             [
              0.1111111111111111,
              "#46039f"
             ],
             [
              0.2222222222222222,
              "#7201a8"
             ],
             [
              0.3333333333333333,
              "#9c179e"
             ],
             [
              0.4444444444444444,
              "#bd3786"
             ],
             [
              0.5555555555555556,
              "#d8576b"
             ],
             [
              0.6666666666666666,
              "#ed7953"
             ],
             [
              0.7777777777777778,
              "#fb9f3a"
             ],
             [
              0.8888888888888888,
              "#fdca26"
             ],
             [
              1,
              "#f0f921"
             ]
            ],
            "type": "histogram2dcontour"
           }
          ],
          "mesh3d": [
           {
            "colorbar": {
             "outlinewidth": 0,
             "ticks": ""
            },
            "type": "mesh3d"
           }
          ],
          "parcoords": [
           {
            "line": {
             "colorbar": {
              "outlinewidth": 0,
              "ticks": ""
             }
            },
            "type": "parcoords"
           }
          ],
          "pie": [
           {
            "automargin": true,
            "type": "pie"
           }
          ],
          "scatter": [
           {
            "fillpattern": {
             "fillmode": "overlay",
             "size": 10,
             "solidity": 0.2
            },
            "type": "scatter"
           }
          ],
          "scatter3d": [
           {
            "line": {
             "colorbar": {
              "outlinewidth": 0,
              "ticks": ""
             }
            },
            "marker": {
             "colorbar": {
              "outlinewidth": 0,
              "ticks": ""
             }
            },
            "type": "scatter3d"
           }
          ],
          "scattercarpet": [
           {
            "marker": {
             "colorbar": {
              "outlinewidth": 0,
              "ticks": ""
             }
            },
            "type": "scattercarpet"
           }
          ],
          "scattergeo": [
           {
            "marker": {
             "colorbar": {
              "outlinewidth": 0,
              "ticks": ""
             }
            },
            "type": "scattergeo"
           }
          ],
          "scattergl": [
           {
            "marker": {
             "colorbar": {
              "outlinewidth": 0,
              "ticks": ""
             }
            },
            "type": "scattergl"
           }
          ],
          "scattermap": [
           {
            "marker": {
             "colorbar": {
              "outlinewidth": 0,
              "ticks": ""
             }
            },
            "type": "scattermap"
           }
          ],
          "scattermapbox": [
           {
            "marker": {
             "colorbar": {
              "outlinewidth": 0,
              "ticks": ""
             }
            },
            "type": "scattermapbox"
           }
          ],
          "scatterpolar": [
           {
            "marker": {
             "colorbar": {
              "outlinewidth": 0,
              "ticks": ""
             }
            },
            "type": "scatterpolar"
           }
          ],
          "scatterpolargl": [
           {
            "marker": {
             "colorbar": {
              "outlinewidth": 0,
              "ticks": ""
             }
            },
            "type": "scatterpolargl"
           }
          ],
          "scatterternary": [
           {
            "marker": {
             "colorbar": {
              "outlinewidth": 0,
              "ticks": ""
             }
            },
            "type": "scatterternary"
           }
          ],
          "surface": [
           {
            "colorbar": {
             "outlinewidth": 0,
             "ticks": ""
            },
            "colorscale": [
             [
              0,
              "#0d0887"
             ],
             [
              0.1111111111111111,
              "#46039f"
             ],
             [
              0.2222222222222222,
              "#7201a8"
             ],
             [
              0.3333333333333333,
              "#9c179e"
             ],
             [
              0.4444444444444444,
              "#bd3786"
             ],
             [
              0.5555555555555556,
              "#d8576b"
             ],
             [
              0.6666666666666666,
              "#ed7953"
             ],
             [
              0.7777777777777778,
              "#fb9f3a"
             ],
             [
              0.8888888888888888,
              "#fdca26"
             ],
             [
              1,
              "#f0f921"
             ]
            ],
            "type": "surface"
           }
          ],
          "table": [
           {
            "cells": {
             "fill": {
              "color": "#EBF0F8"
             },
             "line": {
              "color": "white"
             }
            },
            "header": {
             "fill": {
              "color": "#C8D4E3"
             },
             "line": {
              "color": "white"
             }
            },
            "type": "table"
           }
          ]
         },
         "layout": {
          "annotationdefaults": {
           "arrowcolor": "#2a3f5f",
           "arrowhead": 0,
           "arrowwidth": 1
          },
          "autotypenumbers": "strict",
          "coloraxis": {
           "colorbar": {
            "outlinewidth": 0,
            "ticks": ""
           }
          },
          "colorscale": {
           "diverging": [
            [
             0,
             "#8e0152"
            ],
            [
             0.1,
             "#c51b7d"
            ],
            [
             0.2,
             "#de77ae"
            ],
            [
             0.3,
             "#f1b6da"
            ],
            [
             0.4,
             "#fde0ef"
            ],
            [
             0.5,
             "#f7f7f7"
            ],
            [
             0.6,
             "#e6f5d0"
            ],
            [
             0.7,
             "#b8e186"
            ],
            [
             0.8,
             "#7fbc41"
            ],
            [
             0.9,
             "#4d9221"
            ],
            [
             1,
             "#276419"
            ]
           ],
           "sequential": [
            [
             0,
             "#0d0887"
            ],
            [
             0.1111111111111111,
             "#46039f"
            ],
            [
             0.2222222222222222,
             "#7201a8"
            ],
            [
             0.3333333333333333,
             "#9c179e"
            ],
            [
             0.4444444444444444,
             "#bd3786"
            ],
            [
             0.5555555555555556,
             "#d8576b"
            ],
            [
             0.6666666666666666,
             "#ed7953"
            ],
            [
             0.7777777777777778,
             "#fb9f3a"
            ],
            [
             0.8888888888888888,
             "#fdca26"
            ],
            [
             1,
             "#f0f921"
            ]
           ],
           "sequentialminus": [
            [
             0,
             "#0d0887"
            ],
            [
             0.1111111111111111,
             "#46039f"
            ],
            [
             0.2222222222222222,
             "#7201a8"
            ],
            [
             0.3333333333333333,
             "#9c179e"
            ],
            [
             0.4444444444444444,
             "#bd3786"
            ],
            [
             0.5555555555555556,
             "#d8576b"
            ],
            [
             0.6666666666666666,
             "#ed7953"
            ],
            [
             0.7777777777777778,
             "#fb9f3a"
            ],
            [
             0.8888888888888888,
             "#fdca26"
            ],
            [
             1,
             "#f0f921"
            ]
           ]
          },
          "colorway": [
           "#636efa",
           "#EF553B",
           "#00cc96",
           "#ab63fa",
           "#FFA15A",
           "#19d3f3",
           "#FF6692",
           "#B6E880",
           "#FF97FF",
           "#FECB52"
          ],
          "font": {
           "color": "#2a3f5f"
          },
          "geo": {
           "bgcolor": "white",
           "lakecolor": "white",
           "landcolor": "#E5ECF6",
           "showlakes": true,
           "showland": true,
           "subunitcolor": "white"
          },
          "hoverlabel": {
           "align": "left"
          },
          "hovermode": "closest",
          "mapbox": {
           "style": "light"
          },
          "paper_bgcolor": "white",
          "plot_bgcolor": "#E5ECF6",
          "polar": {
           "angularaxis": {
            "gridcolor": "white",
            "linecolor": "white",
            "ticks": ""
           },
           "bgcolor": "#E5ECF6",
           "radialaxis": {
            "gridcolor": "white",
            "linecolor": "white",
            "ticks": ""
           }
          },
          "scene": {
           "xaxis": {
            "backgroundcolor": "#E5ECF6",
            "gridcolor": "white",
            "gridwidth": 2,
            "linecolor": "white",
            "showbackground": true,
            "ticks": "",
            "zerolinecolor": "white"
           },
           "yaxis": {
            "backgroundcolor": "#E5ECF6",
            "gridcolor": "white",
            "gridwidth": 2,
            "linecolor": "white",
            "showbackground": true,
            "ticks": "",
            "zerolinecolor": "white"
           },
           "zaxis": {
            "backgroundcolor": "#E5ECF6",
            "gridcolor": "white",
            "gridwidth": 2,
            "linecolor": "white",
            "showbackground": true,
            "ticks": "",
            "zerolinecolor": "white"
           }
          },
          "shapedefaults": {
           "line": {
            "color": "#2a3f5f"
           }
          },
          "ternary": {
           "aaxis": {
            "gridcolor": "white",
            "linecolor": "white",
            "ticks": ""
           },
           "baxis": {
            "gridcolor": "white",
            "linecolor": "white",
            "ticks": ""
           },
           "bgcolor": "#E5ECF6",
           "caxis": {
            "gridcolor": "white",
            "linecolor": "white",
            "ticks": ""
           }
          },
          "title": {
           "x": 0.05
          },
          "xaxis": {
           "automargin": true,
           "gridcolor": "white",
           "linecolor": "white",
           "ticks": "",
           "title": {
            "standoff": 15
           },
           "zerolinecolor": "white",
           "zerolinewidth": 2
          },
          "yaxis": {
           "automargin": true,
           "gridcolor": "white",
           "linecolor": "white",
           "ticks": "",
           "title": {
            "standoff": 15
           },
           "zerolinecolor": "white",
           "zerolinewidth": 2
          }
         }
        },
        "title": {
         "text": "Percentage by Attrition Flag and Income Category"
        },
        "width": 600,
        "xaxis": {
         "anchor": "y",
         "domain": [
          0,
          1
         ],
         "title": {
          "text": ""
         }
        },
        "yaxis": {
         "anchor": "x",
         "domain": [
          0,
          1
         ],
         "title": {
          "text": "Percentage (%)"
         }
        }
       }
      }
     },
     "metadata": {},
     "output_type": "display_data"
    }
   ],
   "source": [
    "counts = df.groupby(['Attrition_Flag', 'Income_Category']).size().reset_index(name='counts')\n",
    "percentages = pd.merge(counts, total_counts, on='Attrition_Flag')\n",
    "percentages['percentage'] = percentages['counts'] / percentages['total_counts'] * 100\n",
    "percentages = percentages.sort_values(by='total_counts', ascending=False)\n",
    "percentages['Income_Category_Clean'] = percentages['Income_Category'].replace({\n",
    "    '$120K +': 'Above 120K',\n",
    "    '$40K - $60K': '40K to 60K', \n",
    "    '$60K - $80K': '60K to 80K',\n",
    "    '$80K - $120K': '80K to 120K',\n",
    "    'Less than $40K': 'Less than 40K',\n",
    "    'Unknown': 'Unknown'\n",
    "})\n",
    "\n",
    "fig = px.bar(\n",
    "    percentages, \n",
    "    x='Attrition_Flag', \n",
    "    y='percentage', \n",
    "    color='Income_Category_Clean', \n",
    "    barmode='group',\n",
    "    opacity=0.75\n",
    "    # text='percentage'\n",
    ")\n",
    "\n",
    "fig.update_layout(\n",
    "    title=\"Percentage by Attrition Flag and Income Category\",\n",
    "    plot_bgcolor='rgba(32, 32, 32, 1)',\n",
    "    paper_bgcolor='rgba(32, 32, 32, 1)',\n",
    "    font=dict(color='white'),\n",
    "    xaxis_title=\"\",\n",
    "    yaxis_title=\"Percentage (%)\",\n",
    "    legend_title_text='Income Category',\n",
    "    width=600,\n",
    "    height=500\n",
    ")\n",
    "\n",
    "# pio.write_image(fig=fig, file=\"Income_Category.png\", format='png')\n",
    "fig.show()"
   ]
  },
  {
   "cell_type": "code",
   "execution_count": 24,
   "metadata": {},
   "outputs": [
    {
     "data": {
      "application/vnd.plotly.v1+json": {
       "config": {
        "plotlyServerURL": "https://plot.ly"
       },
       "data": [
        {
         "alignmentgroup": "True",
         "hovertemplate": "Card_Category=Blue<br>Attrition_Flag=%{x}<br>percentage=%{y}<extra></extra>",
         "legendgroup": "Blue",
         "marker": {
          "color": "#636efa",
          "opacity": 0.75,
          "pattern": {
           "shape": ""
          }
         },
         "name": "Blue",
         "offsetgroup": "Blue",
         "orientation": "v",
         "showlegend": true,
         "textposition": "auto",
         "type": "bar",
         "x": [
          "Existing Customer",
          "Attrited Customer"
         ],
         "xaxis": "x",
         "y": {
          "bdata": "CQkJCQlJV0DqCRNFK1dXQA==",
          "dtype": "f8"
         },
         "yaxis": "y"
        },
        {
         "alignmentgroup": "True",
         "hovertemplate": "Card_Category=Gold<br>Attrition_Flag=%{x}<br>percentage=%{y}<extra></extra>",
         "legendgroup": "Gold",
         "marker": {
          "color": "#EF553B",
          "opacity": 0.75,
          "pattern": {
           "shape": ""
          }
         },
         "name": "Gold",
         "offsetgroup": "Gold",
         "orientation": "v",
         "showlegend": true,
         "textposition": "auto",
         "type": "bar",
         "x": [
          "Existing Customer",
          "Attrited Customer"
         ],
         "xaxis": "x",
         "y": {
          "bdata": "4uHh4eHh8T+khC8Wyab0Pw==",
          "dtype": "f8"
         },
         "yaxis": "y"
        },
        {
         "alignmentgroup": "True",
         "hovertemplate": "Card_Category=Platinum<br>Attrition_Flag=%{x}<br>percentage=%{y}<extra></extra>",
         "legendgroup": "Platinum",
         "marker": {
          "color": "#00cc96",
          "opacity": 0.75,
          "pattern": {
           "shape": ""
          }
         },
         "name": "Platinum",
         "offsetgroup": "Platinum",
         "orientation": "v",
         "showlegend": true,
         "textposition": "auto",
         "type": "bar",
         "x": [
          "Existing Customer",
          "Attrited Customer"
         ],
         "xaxis": "x",
         "y": {
          "bdata": "l5aWlpaWxj8uNWqnCKvTPw==",
          "dtype": "f8"
         },
         "yaxis": "y"
        },
        {
         "alignmentgroup": "True",
         "hovertemplate": "Card_Category=Silver<br>Attrition_Flag=%{x}<br>percentage=%{y}<extra></extra>",
         "legendgroup": "Silver",
         "marker": {
          "color": "#ab63fa",
          "opacity": 0.75,
          "pattern": {
           "shape": ""
          }
         },
         "name": "Silver",
         "offsetgroup": "Silver",
         "orientation": "v",
         "showlegend": true,
         "textposition": "auto",
         "type": "bar",
         "x": [
          "Existing Customer",
          "Attrited Customer"
         ],
         "xaxis": "x",
         "y": {
          "bdata": "QkJCQkJCFkDp3Mze6CgUQA==",
          "dtype": "f8"
         },
         "yaxis": "y"
        }
       ],
       "layout": {
        "barmode": "group",
        "font": {
         "color": "white"
        },
        "height": 500,
        "legend": {
         "title": {
          "text": "Card Category"
         },
         "tracegroupgap": 0
        },
        "margin": {
         "t": 60
        },
        "paper_bgcolor": "rgba(32, 32, 32, 1)",
        "plot_bgcolor": "rgba(32, 32, 32, 1)",
        "template": {
         "data": {
          "bar": [
           {
            "error_x": {
             "color": "#2a3f5f"
            },
            "error_y": {
             "color": "#2a3f5f"
            },
            "marker": {
             "line": {
              "color": "#E5ECF6",
              "width": 0.5
             },
             "pattern": {
              "fillmode": "overlay",
              "size": 10,
              "solidity": 0.2
             }
            },
            "type": "bar"
           }
          ],
          "barpolar": [
           {
            "marker": {
             "line": {
              "color": "#E5ECF6",
              "width": 0.5
             },
             "pattern": {
              "fillmode": "overlay",
              "size": 10,
              "solidity": 0.2
             }
            },
            "type": "barpolar"
           }
          ],
          "carpet": [
           {
            "aaxis": {
             "endlinecolor": "#2a3f5f",
             "gridcolor": "white",
             "linecolor": "white",
             "minorgridcolor": "white",
             "startlinecolor": "#2a3f5f"
            },
            "baxis": {
             "endlinecolor": "#2a3f5f",
             "gridcolor": "white",
             "linecolor": "white",
             "minorgridcolor": "white",
             "startlinecolor": "#2a3f5f"
            },
            "type": "carpet"
           }
          ],
          "choropleth": [
           {
            "colorbar": {
             "outlinewidth": 0,
             "ticks": ""
            },
            "type": "choropleth"
           }
          ],
          "contour": [
           {
            "colorbar": {
             "outlinewidth": 0,
             "ticks": ""
            },
            "colorscale": [
             [
              0,
              "#0d0887"
             ],
             [
              0.1111111111111111,
              "#46039f"
             ],
             [
              0.2222222222222222,
              "#7201a8"
             ],
             [
              0.3333333333333333,
              "#9c179e"
             ],
             [
              0.4444444444444444,
              "#bd3786"
             ],
             [
              0.5555555555555556,
              "#d8576b"
             ],
             [
              0.6666666666666666,
              "#ed7953"
             ],
             [
              0.7777777777777778,
              "#fb9f3a"
             ],
             [
              0.8888888888888888,
              "#fdca26"
             ],
             [
              1,
              "#f0f921"
             ]
            ],
            "type": "contour"
           }
          ],
          "contourcarpet": [
           {
            "colorbar": {
             "outlinewidth": 0,
             "ticks": ""
            },
            "type": "contourcarpet"
           }
          ],
          "heatmap": [
           {
            "colorbar": {
             "outlinewidth": 0,
             "ticks": ""
            },
            "colorscale": [
             [
              0,
              "#0d0887"
             ],
             [
              0.1111111111111111,
              "#46039f"
             ],
             [
              0.2222222222222222,
              "#7201a8"
             ],
             [
              0.3333333333333333,
              "#9c179e"
             ],
             [
              0.4444444444444444,
              "#bd3786"
             ],
             [
              0.5555555555555556,
              "#d8576b"
             ],
             [
              0.6666666666666666,
              "#ed7953"
             ],
             [
              0.7777777777777778,
              "#fb9f3a"
             ],
             [
              0.8888888888888888,
              "#fdca26"
             ],
             [
              1,
              "#f0f921"
             ]
            ],
            "type": "heatmap"
           }
          ],
          "histogram": [
           {
            "marker": {
             "pattern": {
              "fillmode": "overlay",
              "size": 10,
              "solidity": 0.2
             }
            },
            "type": "histogram"
           }
          ],
          "histogram2d": [
           {
            "colorbar": {
             "outlinewidth": 0,
             "ticks": ""
            },
            "colorscale": [
             [
              0,
              "#0d0887"
             ],
             [
              0.1111111111111111,
              "#46039f"
             ],
             [
              0.2222222222222222,
              "#7201a8"
             ],
             [
              0.3333333333333333,
              "#9c179e"
             ],
             [
              0.4444444444444444,
              "#bd3786"
             ],
             [
              0.5555555555555556,
              "#d8576b"
             ],
             [
              0.6666666666666666,
              "#ed7953"
             ],
             [
              0.7777777777777778,
              "#fb9f3a"
             ],
             [
              0.8888888888888888,
              "#fdca26"
             ],
             [
              1,
              "#f0f921"
             ]
            ],
            "type": "histogram2d"
           }
          ],
          "histogram2dcontour": [
           {
            "colorbar": {
             "outlinewidth": 0,
             "ticks": ""
            },
            "colorscale": [
             [
              0,
              "#0d0887"
             ],
             [
              0.1111111111111111,
              "#46039f"
             ],
             [
              0.2222222222222222,
              "#7201a8"
             ],
             [
              0.3333333333333333,
              "#9c179e"
             ],
             [
              0.4444444444444444,
              "#bd3786"
             ],
             [
              0.5555555555555556,
              "#d8576b"
             ],
             [
              0.6666666666666666,
              "#ed7953"
             ],
             [
              0.7777777777777778,
              "#fb9f3a"
             ],
             [
              0.8888888888888888,
              "#fdca26"
             ],
             [
              1,
              "#f0f921"
             ]
            ],
            "type": "histogram2dcontour"
           }
          ],
          "mesh3d": [
           {
            "colorbar": {
             "outlinewidth": 0,
             "ticks": ""
            },
            "type": "mesh3d"
           }
          ],
          "parcoords": [
           {
            "line": {
             "colorbar": {
              "outlinewidth": 0,
              "ticks": ""
             }
            },
            "type": "parcoords"
           }
          ],
          "pie": [
           {
            "automargin": true,
            "type": "pie"
           }
          ],
          "scatter": [
           {
            "fillpattern": {
             "fillmode": "overlay",
             "size": 10,
             "solidity": 0.2
            },
            "type": "scatter"
           }
          ],
          "scatter3d": [
           {
            "line": {
             "colorbar": {
              "outlinewidth": 0,
              "ticks": ""
             }
            },
            "marker": {
             "colorbar": {
              "outlinewidth": 0,
              "ticks": ""
             }
            },
            "type": "scatter3d"
           }
          ],
          "scattercarpet": [
           {
            "marker": {
             "colorbar": {
              "outlinewidth": 0,
              "ticks": ""
             }
            },
            "type": "scattercarpet"
           }
          ],
          "scattergeo": [
           {
            "marker": {
             "colorbar": {
              "outlinewidth": 0,
              "ticks": ""
             }
            },
            "type": "scattergeo"
           }
          ],
          "scattergl": [
           {
            "marker": {
             "colorbar": {
              "outlinewidth": 0,
              "ticks": ""
             }
            },
            "type": "scattergl"
           }
          ],
          "scattermap": [
           {
            "marker": {
             "colorbar": {
              "outlinewidth": 0,
              "ticks": ""
             }
            },
            "type": "scattermap"
           }
          ],
          "scattermapbox": [
           {
            "marker": {
             "colorbar": {
              "outlinewidth": 0,
              "ticks": ""
             }
            },
            "type": "scattermapbox"
           }
          ],
          "scatterpolar": [
           {
            "marker": {
             "colorbar": {
              "outlinewidth": 0,
              "ticks": ""
             }
            },
            "type": "scatterpolar"
           }
          ],
          "scatterpolargl": [
           {
            "marker": {
             "colorbar": {
              "outlinewidth": 0,
              "ticks": ""
             }
            },
            "type": "scatterpolargl"
           }
          ],
          "scatterternary": [
           {
            "marker": {
             "colorbar": {
              "outlinewidth": 0,
              "ticks": ""
             }
            },
            "type": "scatterternary"
           }
          ],
          "surface": [
           {
            "colorbar": {
             "outlinewidth": 0,
             "ticks": ""
            },
            "colorscale": [
             [
              0,
              "#0d0887"
             ],
             [
              0.1111111111111111,
              "#46039f"
             ],
             [
              0.2222222222222222,
              "#7201a8"
             ],
             [
              0.3333333333333333,
              "#9c179e"
             ],
             [
              0.4444444444444444,
              "#bd3786"
             ],
             [
              0.5555555555555556,
              "#d8576b"
             ],
             [
              0.6666666666666666,
              "#ed7953"
             ],
             [
              0.7777777777777778,
              "#fb9f3a"
             ],
             [
              0.8888888888888888,
              "#fdca26"
             ],
             [
              1,
              "#f0f921"
             ]
            ],
            "type": "surface"
           }
          ],
          "table": [
           {
            "cells": {
             "fill": {
              "color": "#EBF0F8"
             },
             "line": {
              "color": "white"
             }
            },
            "header": {
             "fill": {
              "color": "#C8D4E3"
             },
             "line": {
              "color": "white"
             }
            },
            "type": "table"
           }
          ]
         },
         "layout": {
          "annotationdefaults": {
           "arrowcolor": "#2a3f5f",
           "arrowhead": 0,
           "arrowwidth": 1
          },
          "autotypenumbers": "strict",
          "coloraxis": {
           "colorbar": {
            "outlinewidth": 0,
            "ticks": ""
           }
          },
          "colorscale": {
           "diverging": [
            [
             0,
             "#8e0152"
            ],
            [
             0.1,
             "#c51b7d"
            ],
            [
             0.2,
             "#de77ae"
            ],
            [
             0.3,
             "#f1b6da"
            ],
            [
             0.4,
             "#fde0ef"
            ],
            [
             0.5,
             "#f7f7f7"
            ],
            [
             0.6,
             "#e6f5d0"
            ],
            [
             0.7,
             "#b8e186"
            ],
            [
             0.8,
             "#7fbc41"
            ],
            [
             0.9,
             "#4d9221"
            ],
            [
             1,
             "#276419"
            ]
           ],
           "sequential": [
            [
             0,
             "#0d0887"
            ],
            [
             0.1111111111111111,
             "#46039f"
            ],
            [
             0.2222222222222222,
             "#7201a8"
            ],
            [
             0.3333333333333333,
             "#9c179e"
            ],
            [
             0.4444444444444444,
             "#bd3786"
            ],
            [
             0.5555555555555556,
             "#d8576b"
            ],
            [
             0.6666666666666666,
             "#ed7953"
            ],
            [
             0.7777777777777778,
             "#fb9f3a"
            ],
            [
             0.8888888888888888,
             "#fdca26"
            ],
            [
             1,
             "#f0f921"
            ]
           ],
           "sequentialminus": [
            [
             0,
             "#0d0887"
            ],
            [
             0.1111111111111111,
             "#46039f"
            ],
            [
             0.2222222222222222,
             "#7201a8"
            ],
            [
             0.3333333333333333,
             "#9c179e"
            ],
            [
             0.4444444444444444,
             "#bd3786"
            ],
            [
             0.5555555555555556,
             "#d8576b"
            ],
            [
             0.6666666666666666,
             "#ed7953"
            ],
            [
             0.7777777777777778,
             "#fb9f3a"
            ],
            [
             0.8888888888888888,
             "#fdca26"
            ],
            [
             1,
             "#f0f921"
            ]
           ]
          },
          "colorway": [
           "#636efa",
           "#EF553B",
           "#00cc96",
           "#ab63fa",
           "#FFA15A",
           "#19d3f3",
           "#FF6692",
           "#B6E880",
           "#FF97FF",
           "#FECB52"
          ],
          "font": {
           "color": "#2a3f5f"
          },
          "geo": {
           "bgcolor": "white",
           "lakecolor": "white",
           "landcolor": "#E5ECF6",
           "showlakes": true,
           "showland": true,
           "subunitcolor": "white"
          },
          "hoverlabel": {
           "align": "left"
          },
          "hovermode": "closest",
          "mapbox": {
           "style": "light"
          },
          "paper_bgcolor": "white",
          "plot_bgcolor": "#E5ECF6",
          "polar": {
           "angularaxis": {
            "gridcolor": "white",
            "linecolor": "white",
            "ticks": ""
           },
           "bgcolor": "#E5ECF6",
           "radialaxis": {
            "gridcolor": "white",
            "linecolor": "white",
            "ticks": ""
           }
          },
          "scene": {
           "xaxis": {
            "backgroundcolor": "#E5ECF6",
            "gridcolor": "white",
            "gridwidth": 2,
            "linecolor": "white",
            "showbackground": true,
            "ticks": "",
            "zerolinecolor": "white"
           },
           "yaxis": {
            "backgroundcolor": "#E5ECF6",
            "gridcolor": "white",
            "gridwidth": 2,
            "linecolor": "white",
            "showbackground": true,
            "ticks": "",
            "zerolinecolor": "white"
           },
           "zaxis": {
            "backgroundcolor": "#E5ECF6",
            "gridcolor": "white",
            "gridwidth": 2,
            "linecolor": "white",
            "showbackground": true,
            "ticks": "",
            "zerolinecolor": "white"
           }
          },
          "shapedefaults": {
           "line": {
            "color": "#2a3f5f"
           }
          },
          "ternary": {
           "aaxis": {
            "gridcolor": "white",
            "linecolor": "white",
            "ticks": ""
           },
           "baxis": {
            "gridcolor": "white",
            "linecolor": "white",
            "ticks": ""
           },
           "bgcolor": "#E5ECF6",
           "caxis": {
            "gridcolor": "white",
            "linecolor": "white",
            "ticks": ""
           }
          },
          "title": {
           "x": 0.05
          },
          "xaxis": {
           "automargin": true,
           "gridcolor": "white",
           "linecolor": "white",
           "ticks": "",
           "title": {
            "standoff": 15
           },
           "zerolinecolor": "white",
           "zerolinewidth": 2
          },
          "yaxis": {
           "automargin": true,
           "gridcolor": "white",
           "linecolor": "white",
           "ticks": "",
           "title": {
            "standoff": 15
           },
           "zerolinecolor": "white",
           "zerolinewidth": 2
          }
         }
        },
        "title": {
         "text": "Percentage by Attrition Flag and Card Category"
        },
        "width": 600,
        "xaxis": {
         "anchor": "y",
         "domain": [
          0,
          1
         ],
         "title": {
          "text": ""
         }
        },
        "yaxis": {
         "anchor": "x",
         "domain": [
          0,
          1
         ],
         "title": {
          "text": "Percentage (%)"
         }
        }
       }
      }
     },
     "metadata": {},
     "output_type": "display_data"
    }
   ],
   "source": [
    "counts = df.groupby(['Attrition_Flag', 'Card_Category']).size().reset_index(name='counts')\n",
    "percentages = pd.merge(counts, total_counts, on='Attrition_Flag')\n",
    "percentages['percentage'] = percentages['counts'] / percentages['total_counts'] * 100\n",
    "percentages = percentages.sort_values(by='total_counts', ascending=False)\n",
    "\n",
    "fig = px.bar(\n",
    "    percentages, \n",
    "    x='Attrition_Flag', \n",
    "    y='percentage', \n",
    "    color='Card_Category', \n",
    "    barmode='group',\n",
    "    opacity=0.75\n",
    "    # text='percentage'\n",
    ")\n",
    "\n",
    "fig.update_layout(\n",
    "    title=\"Percentage by Attrition Flag and Card Category\",\n",
    "    plot_bgcolor='rgba(32, 32, 32, 1)',\n",
    "    paper_bgcolor='rgba(32, 32, 32, 1)',\n",
    "    font=dict(color='white'),\n",
    "    xaxis_title=\"\",\n",
    "    yaxis_title=\"Percentage (%)\",\n",
    "    legend_title_text='Card Category',\n",
    "    width=600,\n",
    "    height=500\n",
    ")\n",
    "\n",
    "# pio.write_image(fig=fig, file=\"Card_Category.png\", format='png')\n",
    "fig.show()"
   ]
  },
  {
   "cell_type": "markdown",
   "metadata": {},
   "source": [
    "**By looking at the Grouped Bar Charts, we can see how the data is distributed across different variables. The y-axis in above charts represents relative frequency (percentage) rather than raw counts, to accomodate the imbalanced dataset. If we use counts on the y-axis, the bars of existing customer will always look taller than the bars of attrited customer. By contrast, setting the y-axis to relative frequency allows for an apples-toapples comparison.**"
   ]
  },
  {
   "cell_type": "code",
   "execution_count": 25,
   "metadata": {},
   "outputs": [],
   "source": [
    "#define new features\n",
    "new_feature = ['Attrition_Flag', 'Credit_Limit', 'Total_Revolving_Bal', 'Total_Amt_Chng_Q4_Q1', 'Total_Ct_Chng_Q4_Q1', 'Total_Trans_Amt', 'Total_Trans_Ct', 'Avg_Utilization_Ratio']"
   ]
  },
  {
   "cell_type": "code",
   "execution_count": 26,
   "metadata": {},
   "outputs": [
    {
     "data": {
      "image/png": "[encoded data removed]",
      "text/plain": [
       "<Figure size 2100x500 with 7 Axes>"
      ]
     },
     "metadata": {},
     "output_type": "display_data"
    }
   ],
   "source": [
    "dff = df\n",
    "fig, ax = plt.subplots(nrows=1, ncols=7, figsize=(7 * 3, 5))\n",
    "\n",
    "for i, column in enumerate(new_feature[1:]):\n",
    "    #Boxplot\n",
    "    ax[i].boxplot(dff[column])\n",
    "    # Set the title and labels\n",
    "    ax[i].set_title(f'{column}', fontsize=15)\n",
    "    ax[i].set_ylabel('Values')\n",
    "    \n",
    "# Adjust spacing between subplots\n",
    "plt.tight_layout()\n",
    "    \n",
    "# Display the plots\n",
    "plt.show()"
   ]
  },
  {
   "cell_type": "markdown",
   "metadata": {},
   "source": [
    "###  Based on the boxplots, we can observe the presence of outliers as values lying beyond the whiskers. Notably, certain features like **Credit_Limit**, **Total_Amt_Chng_Q4_**, and    **Total_Trans_Amt** exhibit a considerable number of extreme values. Removing these outliers could result in a significant reduction of data."
   ]
  },
  {
   "cell_type": "code",
   "execution_count": 27,
   "metadata": {},
   "outputs": [
    {
     "data": {
      "image/png": "[encoded data removed]",
      "text/plain": [
       "<Figure size 1200x1000 with 2 Axes>"
      ]
     },
     "metadata": {},
     "output_type": "display_data"
    }
   ],
   "source": [
    "# Compute the correlation matrix for numeric features\n",
    "corr_matrix = df[numeric_columns].corr()\n",
    "\n",
    "# Plot a heatmap of the correlation matrix\n",
    "plt.figure(figsize=(12, 10))\n",
    "sns.heatmap(corr_matrix, annot=True, cmap='coolwarm', fmt=\".2f\")\n",
    "plt.title('Correlation Matrix of Numeric Features')\n",
    "plt.show()\n"
   ]
  },
  {
   "cell_type": "code",
   "execution_count": 28,
   "metadata": {},
   "outputs": [
    {
     "name": "stdout",
     "output_type": "stream",
     "text": [
      "Attrition_Flag\n",
      "Existing Customer    8500\n",
      "Attrited Customer    1627\n",
      "Name: count, dtype: int64\n"
     ]
    },
    {
     "data": {
      "text/plain": [
       "Text(0.5, 1.0, 'Distribution of the attrition flag variable')"
      ]
     },
     "execution_count": 28,
     "metadata": {},
     "output_type": "execute_result"
    },
    {
     "data": {
      "image/png": "[encoded data removed]",
      "text/plain": [
       "<Figure size 640x480 with 1 Axes>"
      ]
     },
     "metadata": {},
     "output_type": "display_data"
    }
   ],
   "source": [
    "print(df['Attrition_Flag'].value_counts())\n",
    "plt.pie(df['Attrition_Flag'].value_counts(), labels = ['No_Churn(Existing)','Churn(Attrited)'], autopct='%.0f%%', colors= 'br')\n",
    "plt.title(\"Distribution of the attrition flag variable\")"
   ]
  },
  {
   "cell_type": "code",
   "execution_count": 29,
   "metadata": {},
   "outputs": [],
   "source": [
    "df['Attrition_Flag'] = df['Attrition_Flag'].map({\n",
    "    'Attrited Customer': 1,\n",
    "    'Existing Customer': 0\n",
    "})"
   ]
  },
  {
   "cell_type": "code",
   "execution_count": 30,
   "metadata": {},
   "outputs": [
    {
     "data": {
      "text/plain": [
       "16.065962279055988"
      ]
     },
     "execution_count": 30,
     "metadata": {},
     "output_type": "execute_result"
    }
   ],
   "source": [
    "df[df[\"Attrition_Flag\"] == 1].shape[0]/df.shape[0]*100"
   ]
  },
  {
   "cell_type": "markdown",
   "metadata": {},
   "source": [
    "# **Customer Attrition Analysis**\n",
    "\n",
    "**Highly Imbalanced Target Variable:**\n",
    "- 83.9% of customers are Existing Customers.\n",
    "- 16.1% of customers are Attrited Customers (churned).\n",
    "\n",
    "**Potential Issue:**\n",
    "- The dataset is imbalanced, meaning a model might be biased towards predicting \"Existing Customer.\"\n"
   ]
  },
  {
   "cell_type": "markdown",
   "metadata": {},
   "source": [
    "**As its mentioned That last two columns should not be used so we are removing those columns.**"
   ]
  },
  {
   "cell_type": "code",
   "execution_count": 31,
   "metadata": {},
   "outputs": [],
   "source": [
    "df.drop(columns=[\"CLIENTNUM\",\n",
    "                 \"Naive_Bayes_Classifier_Attrition_Flag_Card_Category_Contacts_Count_12_mon_Dependent_count_Education_Level_Months_Inactive_12_mon_1\",\n",
    "                \"Naive_Bayes_Classifier_Attrition_Flag_Card_Category_Contacts_Count_12_mon_Dependent_count_Education_Level_Months_Inactive_12_mon_2\"],\n",
    "inplace=True)"
   ]
  },
  {
   "cell_type": "code",
   "execution_count": 32,
   "metadata": {},
   "outputs": [
    {
     "data": {
      "text/html": [
       "<div>\n",
       "<style scoped>\n",
       "    .dataframe tbody tr th:only-of-type {\n",
       "        vertical-align: middle;\n",
       "    }\n",
       "\n",
       "    .dataframe tbody tr th {\n",
       "        vertical-align: top;\n",
       "    }\n",
       "\n",
       "    .dataframe thead th {\n",
       "        text-align: right;\n",
       "    }\n",
       "</style>\n",
       "<table border=\"1\" class=\"dataframe\">\n",
       "  <thead>\n",
       "    <tr style=\"text-align: right;\">\n",
       "      <th></th>\n",
       "      <th>Attrition_Flag</th>\n",
       "      <th>Customer_Age</th>\n",
       "      <th>Gender</th>\n",
       "      <th>Dependent_count</th>\n",
       "      <th>Education_Level</th>\n",
       "      <th>Marital_Status</th>\n",
       "      <th>Income_Category</th>\n",
       "      <th>Card_Category</th>\n",
       "      <th>Months_on_book</th>\n",
       "      <th>Total_Relationship_Count</th>\n",
       "      <th>Months_Inactive_12_mon</th>\n",
       "      <th>Contacts_Count_12_mon</th>\n",
       "      <th>Credit_Limit</th>\n",
       "      <th>Total_Revolving_Bal</th>\n",
       "      <th>Avg_Open_To_Buy</th>\n",
       "      <th>Total_Amt_Chng_Q4_Q1</th>\n",
       "      <th>Total_Trans_Amt</th>\n",
       "      <th>Total_Trans_Ct</th>\n",
       "      <th>Total_Ct_Chng_Q4_Q1</th>\n",
       "      <th>Avg_Utilization_Ratio</th>\n",
       "    </tr>\n",
       "  </thead>\n",
       "  <tbody>\n",
       "    <tr>\n",
       "      <th>0</th>\n",
       "      <td>0</td>\n",
       "      <td>45</td>\n",
       "      <td>M</td>\n",
       "      <td>3</td>\n",
       "      <td>High School</td>\n",
       "      <td>Married</td>\n",
       "      <td>$60K - $80K</td>\n",
       "      <td>Blue</td>\n",
       "      <td>39</td>\n",
       "      <td>5</td>\n",
       "      <td>1</td>\n",
       "      <td>3</td>\n",
       "      <td>12691.0</td>\n",
       "      <td>777</td>\n",
       "      <td>11914.0</td>\n",
       "      <td>1.335</td>\n",
       "      <td>1144</td>\n",
       "      <td>42</td>\n",
       "      <td>1.625</td>\n",
       "      <td>0.061</td>\n",
       "    </tr>\n",
       "    <tr>\n",
       "      <th>1</th>\n",
       "      <td>0</td>\n",
       "      <td>49</td>\n",
       "      <td>F</td>\n",
       "      <td>5</td>\n",
       "      <td>Graduate</td>\n",
       "      <td>Single</td>\n",
       "      <td>Less than $40K</td>\n",
       "      <td>Blue</td>\n",
       "      <td>44</td>\n",
       "      <td>6</td>\n",
       "      <td>1</td>\n",
       "      <td>2</td>\n",
       "      <td>8256.0</td>\n",
       "      <td>864</td>\n",
       "      <td>7392.0</td>\n",
       "      <td>1.541</td>\n",
       "      <td>1291</td>\n",
       "      <td>33</td>\n",
       "      <td>3.714</td>\n",
       "      <td>0.105</td>\n",
       "    </tr>\n",
       "    <tr>\n",
       "      <th>2</th>\n",
       "      <td>0</td>\n",
       "      <td>51</td>\n",
       "      <td>M</td>\n",
       "      <td>3</td>\n",
       "      <td>Graduate</td>\n",
       "      <td>Married</td>\n",
       "      <td>$80K - $120K</td>\n",
       "      <td>Blue</td>\n",
       "      <td>36</td>\n",
       "      <td>4</td>\n",
       "      <td>1</td>\n",
       "      <td>0</td>\n",
       "      <td>3418.0</td>\n",
       "      <td>0</td>\n",
       "      <td>3418.0</td>\n",
       "      <td>2.594</td>\n",
       "      <td>1887</td>\n",
       "      <td>20</td>\n",
       "      <td>2.333</td>\n",
       "      <td>0.000</td>\n",
       "    </tr>\n",
       "    <tr>\n",
       "      <th>3</th>\n",
       "      <td>0</td>\n",
       "      <td>40</td>\n",
       "      <td>F</td>\n",
       "      <td>4</td>\n",
       "      <td>High School</td>\n",
       "      <td>Unknown</td>\n",
       "      <td>Less than $40K</td>\n",
       "      <td>Blue</td>\n",
       "      <td>34</td>\n",
       "      <td>3</td>\n",
       "      <td>4</td>\n",
       "      <td>1</td>\n",
       "      <td>3313.0</td>\n",
       "      <td>2517</td>\n",
       "      <td>796.0</td>\n",
       "      <td>1.405</td>\n",
       "      <td>1171</td>\n",
       "      <td>20</td>\n",
       "      <td>2.333</td>\n",
       "      <td>0.760</td>\n",
       "    </tr>\n",
       "    <tr>\n",
       "      <th>4</th>\n",
       "      <td>0</td>\n",
       "      <td>40</td>\n",
       "      <td>M</td>\n",
       "      <td>3</td>\n",
       "      <td>Uneducated</td>\n",
       "      <td>Married</td>\n",
       "      <td>$60K - $80K</td>\n",
       "      <td>Blue</td>\n",
       "      <td>21</td>\n",
       "      <td>5</td>\n",
       "      <td>1</td>\n",
       "      <td>0</td>\n",
       "      <td>4716.0</td>\n",
       "      <td>0</td>\n",
       "      <td>4716.0</td>\n",
       "      <td>2.175</td>\n",
       "      <td>816</td>\n",
       "      <td>28</td>\n",
       "      <td>2.500</td>\n",
       "      <td>0.000</td>\n",
       "    </tr>\n",
       "    <tr>\n",
       "      <th>...</th>\n",
       "      <td>...</td>\n",
       "      <td>...</td>\n",
       "      <td>...</td>\n",
       "      <td>...</td>\n",
       "      <td>...</td>\n",
       "      <td>...</td>\n",
       "      <td>...</td>\n",
       "      <td>...</td>\n",
       "      <td>...</td>\n",
       "      <td>...</td>\n",
       "      <td>...</td>\n",
       "      <td>...</td>\n",
       "      <td>...</td>\n",
       "      <td>...</td>\n",
       "      <td>...</td>\n",
       "      <td>...</td>\n",
       "      <td>...</td>\n",
       "      <td>...</td>\n",
       "      <td>...</td>\n",
       "      <td>...</td>\n",
       "    </tr>\n",
       "    <tr>\n",
       "      <th>10122</th>\n",
       "      <td>0</td>\n",
       "      <td>50</td>\n",
       "      <td>M</td>\n",
       "      <td>2</td>\n",
       "      <td>Graduate</td>\n",
       "      <td>Single</td>\n",
       "      <td>$40K - $60K</td>\n",
       "      <td>Blue</td>\n",
       "      <td>40</td>\n",
       "      <td>3</td>\n",
       "      <td>2</td>\n",
       "      <td>3</td>\n",
       "      <td>4003.0</td>\n",
       "      <td>1851</td>\n",
       "      <td>2152.0</td>\n",
       "      <td>0.703</td>\n",
       "      <td>15476</td>\n",
       "      <td>117</td>\n",
       "      <td>0.857</td>\n",
       "      <td>0.462</td>\n",
       "    </tr>\n",
       "    <tr>\n",
       "      <th>10123</th>\n",
       "      <td>1</td>\n",
       "      <td>41</td>\n",
       "      <td>M</td>\n",
       "      <td>2</td>\n",
       "      <td>Unknown</td>\n",
       "      <td>Divorced</td>\n",
       "      <td>$40K - $60K</td>\n",
       "      <td>Blue</td>\n",
       "      <td>25</td>\n",
       "      <td>4</td>\n",
       "      <td>2</td>\n",
       "      <td>3</td>\n",
       "      <td>4277.0</td>\n",
       "      <td>2186</td>\n",
       "      <td>2091.0</td>\n",
       "      <td>0.804</td>\n",
       "      <td>8764</td>\n",
       "      <td>69</td>\n",
       "      <td>0.683</td>\n",
       "      <td>0.511</td>\n",
       "    </tr>\n",
       "    <tr>\n",
       "      <th>10124</th>\n",
       "      <td>1</td>\n",
       "      <td>44</td>\n",
       "      <td>F</td>\n",
       "      <td>1</td>\n",
       "      <td>High School</td>\n",
       "      <td>Married</td>\n",
       "      <td>Less than $40K</td>\n",
       "      <td>Blue</td>\n",
       "      <td>36</td>\n",
       "      <td>5</td>\n",
       "      <td>3</td>\n",
       "      <td>4</td>\n",
       "      <td>5409.0</td>\n",
       "      <td>0</td>\n",
       "      <td>5409.0</td>\n",
       "      <td>0.819</td>\n",
       "      <td>10291</td>\n",
       "      <td>60</td>\n",
       "      <td>0.818</td>\n",
       "      <td>0.000</td>\n",
       "    </tr>\n",
       "    <tr>\n",
       "      <th>10125</th>\n",
       "      <td>1</td>\n",
       "      <td>30</td>\n",
       "      <td>M</td>\n",
       "      <td>2</td>\n",
       "      <td>Graduate</td>\n",
       "      <td>Unknown</td>\n",
       "      <td>$40K - $60K</td>\n",
       "      <td>Blue</td>\n",
       "      <td>36</td>\n",
       "      <td>4</td>\n",
       "      <td>3</td>\n",
       "      <td>3</td>\n",
       "      <td>5281.0</td>\n",
       "      <td>0</td>\n",
       "      <td>5281.0</td>\n",
       "      <td>0.535</td>\n",
       "      <td>8395</td>\n",
       "      <td>62</td>\n",
       "      <td>0.722</td>\n",
       "      <td>0.000</td>\n",
       "    </tr>\n",
       "    <tr>\n",
       "      <th>10126</th>\n",
       "      <td>1</td>\n",
       "      <td>43</td>\n",
       "      <td>F</td>\n",
       "      <td>2</td>\n",
       "      <td>Graduate</td>\n",
       "      <td>Married</td>\n",
       "      <td>Less than $40K</td>\n",
       "      <td>Silver</td>\n",
       "      <td>25</td>\n",
       "      <td>6</td>\n",
       "      <td>2</td>\n",
       "      <td>4</td>\n",
       "      <td>10388.0</td>\n",
       "      <td>1961</td>\n",
       "      <td>8427.0</td>\n",
       "      <td>0.703</td>\n",
       "      <td>10294</td>\n",
       "      <td>61</td>\n",
       "      <td>0.649</td>\n",
       "      <td>0.189</td>\n",
       "    </tr>\n",
       "  </tbody>\n",
       "</table>\n",
       "<p>10127 rows × 20 columns</p>\n",
       "</div>"
      ],
      "text/plain": [
       "       Attrition_Flag  Customer_Age Gender  Dependent_count Education_Level  \\\n",
       "0                   0            45      M                3     High School   \n",
       "1                   0            49      F                5        Graduate   \n",
       "2                   0            51      M                3        Graduate   \n",
       "3                   0            40      F                4     High School   \n",
       "4                   0            40      M                3      Uneducated   \n",
       "...               ...           ...    ...              ...             ...   \n",
       "10122               0            50      M                2        Graduate   \n",
       "10123               1            41      M                2         Unknown   \n",
       "10124               1            44      F                1     High School   \n",
       "10125               1            30      M                2        Graduate   \n",
       "10126               1            43      F                2        Graduate   \n",
       "\n",
       "      Marital_Status Income_Category Card_Category  Months_on_book  \\\n",
       "0            Married     $60K - $80K          Blue              39   \n",
       "1             Single  Less than $40K          Blue              44   \n",
       "2            Married    $80K - $120K          Blue              36   \n",
       "3            Unknown  Less than $40K          Blue              34   \n",
       "4            Married     $60K - $80K          Blue              21   \n",
       "...              ...             ...           ...             ...   \n",
       "10122         Single     $40K - $60K          Blue              40   \n",
       "10123       Divorced     $40K - $60K          Blue              25   \n",
       "10124        Married  Less than $40K          Blue              36   \n",
       "10125        Unknown     $40K - $60K          Blue              36   \n",
       "10126        Married  Less than $40K        Silver              25   \n",
       "\n",
       "       Total_Relationship_Count  Months_Inactive_12_mon  \\\n",
       "0                             5                       1   \n",
       "1                             6                       1   \n",
       "2                             4                       1   \n",
       "3                             3                       4   \n",
       "4                             5                       1   \n",
       "...                         ...                     ...   \n",
       "10122                         3                       2   \n",
       "10123                         4                       2   \n",
       "10124                         5                       3   \n",
       "10125                         4                       3   \n",
       "10126                         6                       2   \n",
       "\n",
       "       Contacts_Count_12_mon  Credit_Limit  Total_Revolving_Bal  \\\n",
       "0                          3       12691.0                  777   \n",
       "1                          2        8256.0                  864   \n",
       "2                          0        3418.0                    0   \n",
       "3                          1        3313.0                 2517   \n",
       "4                          0        4716.0                    0   \n",
       "...                      ...           ...                  ...   \n",
       "10122                      3        4003.0                 1851   \n",
       "10123                      3        4277.0                 2186   \n",
       "10124                      4        5409.0                    0   \n",
       "10125                      3        5281.0                    0   \n",
       "10126                      4       10388.0                 1961   \n",
       "\n",
       "       Avg_Open_To_Buy  Total_Amt_Chng_Q4_Q1  Total_Trans_Amt  Total_Trans_Ct  \\\n",
       "0              11914.0                 1.335             1144              42   \n",
       "1               7392.0                 1.541             1291              33   \n",
       "2               3418.0                 2.594             1887              20   \n",
       "3                796.0                 1.405             1171              20   \n",
       "4               4716.0                 2.175              816              28   \n",
       "...                ...                   ...              ...             ...   \n",
       "10122           2152.0                 0.703            15476             117   \n",
       "10123           2091.0                 0.804             8764              69   \n",
       "10124           5409.0                 0.819            10291              60   \n",
       "10125           5281.0                 0.535             8395              62   \n",
       "10126           8427.0                 0.703            10294              61   \n",
       "\n",
       "       Total_Ct_Chng_Q4_Q1  Avg_Utilization_Ratio  \n",
       "0                    1.625                  0.061  \n",
       "1                    3.714                  0.105  \n",
       "2                    2.333                  0.000  \n",
       "3                    2.333                  0.760  \n",
       "4                    2.500                  0.000  \n",
       "...                    ...                    ...  \n",
       "10122                0.857                  0.462  \n",
       "10123                0.683                  0.511  \n",
       "10124                0.818                  0.000  \n",
       "10125                0.722                  0.000  \n",
       "10126                0.649                  0.189  \n",
       "\n",
       "[10127 rows x 20 columns]"
      ]
     },
     "execution_count": 32,
     "metadata": {},
     "output_type": "execute_result"
    }
   ],
   "source": [
    "df"
   ]
  },
  {
   "cell_type": "code",
   "execution_count": 33,
   "metadata": {},
   "outputs": [
    {
     "data": {
      "application/vnd.plotly.v1+json": {
       "config": {
        "plotlyServerURL": "https://plot.ly"
       },
       "data": [
        {
         "hovertemplate": "Age=%{x}<br>Months=%{y}<extra></extra>",
         "legendgroup": "",
         "marker": {
          "color": "#636efa",
          "symbol": "circle"
         },
         "mode": "markers",
         "name": "",
         "showlegend": false,
         "type": "scattergl",
         "x": {
          "bdata": "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",
          "dtype": "i1"
         },
         "xaxis": "x",
         "y": {
          "bdata": "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",
          "dtype": "i1"
         },
         "yaxis": "y"
        }
       ],
       "layout": {
        "font": {
         "color": "white"
        },
        "height": 500,
        "legend": {
         "title": {
          "text": "Age"
         },
         "tracegroupgap": 0
        },
        "margin": {
         "t": 60
        },
        "paper_bgcolor": "rgba(32, 32, 32, 1)",
        "plot_bgcolor": "rgba(32, 32, 32, 0)",
        "template": {
         "data": {
          "bar": [
           {
            "error_x": {
             "color": "#2a3f5f"
            },
            "error_y": {
             "color": "#2a3f5f"
            },
            "marker": {
             "line": {
              "color": "#E5ECF6",
              "width": 0.5
             },
             "pattern": {
              "fillmode": "overlay",
              "size": 10,
              "solidity": 0.2
             }
            },
            "type": "bar"
           }
          ],
          "barpolar": [
           {
            "marker": {
             "line": {
              "color": "#E5ECF6",
              "width": 0.5
             },
             "pattern": {
              "fillmode": "overlay",
              "size": 10,
              "solidity": 0.2
             }
            },
            "type": "barpolar"
           }
          ],
          "carpet": [
           {
            "aaxis": {
             "endlinecolor": "#2a3f5f",
             "gridcolor": "white",
             "linecolor": "white",
             "minorgridcolor": "white",
             "startlinecolor": "#2a3f5f"
            },
            "baxis": {
             "endlinecolor": "#2a3f5f",
             "gridcolor": "white",
             "linecolor": "white",
             "minorgridcolor": "white",
             "startlinecolor": "#2a3f5f"
            },
            "type": "carpet"
           }
          ],
          "choropleth": [
           {
            "colorbar": {
             "outlinewidth": 0,
             "ticks": ""
            },
            "type": "choropleth"
           }
          ],
          "contour": [
           {
            "colorbar": {
             "outlinewidth": 0,
             "ticks": ""
            },
            "colorscale": [
             [
              0,
              "#0d0887"
             ],
             [
              0.1111111111111111,
              "#46039f"
             ],
             [
              0.2222222222222222,
              "#7201a8"
             ],
             [
              0.3333333333333333,
              "#9c179e"
             ],
             [
              0.4444444444444444,
              "#bd3786"
             ],
             [
              0.5555555555555556,
              "#d8576b"
             ],
             [
              0.6666666666666666,
              "#ed7953"
             ],
             [
              0.7777777777777778,
              "#fb9f3a"
             ],
             [
              0.8888888888888888,
              "#fdca26"
             ],
             [
              1,
              "#f0f921"
             ]
            ],
            "type": "contour"
           }
          ],
          "contourcarpet": [
           {
            "colorbar": {
             "outlinewidth": 0,
             "ticks": ""
            },
            "type": "contourcarpet"
           }
          ],
          "heatmap": [
           {
            "colorbar": {
             "outlinewidth": 0,
             "ticks": ""
            },
            "colorscale": [
             [
              0,
              "#0d0887"
             ],
             [
              0.1111111111111111,
              "#46039f"
             ],
             [
              0.2222222222222222,
              "#7201a8"
             ],
             [
              0.3333333333333333,
              "#9c179e"
             ],
             [
              0.4444444444444444,
              "#bd3786"
             ],
             [
              0.5555555555555556,
              "#d8576b"
             ],
             [
              0.6666666666666666,
              "#ed7953"
             ],
             [
              0.7777777777777778,
              "#fb9f3a"
             ],
             [
              0.8888888888888888,
              "#fdca26"
             ],
             [
              1,
              "#f0f921"
             ]
            ],
            "type": "heatmap"
           }
          ],
          "histogram": [
           {
            "marker": {
             "pattern": {
              "fillmode": "overlay",
              "size": 10,
              "solidity": 0.2
             }
            },
            "type": "histogram"
           }
          ],
          "histogram2d": [
           {
            "colorbar": {
             "outlinewidth": 0,
             "ticks": ""
            },
            "colorscale": [
             [
              0,
              "#0d0887"
             ],
             [
              0.1111111111111111,
              "#46039f"
             ],
             [
              0.2222222222222222,
              "#7201a8"
             ],
             [
              0.3333333333333333,
              "#9c179e"
             ],
             [
              0.4444444444444444,
              "#bd3786"
             ],
             [
              0.5555555555555556,
              "#d8576b"
             ],
             [
              0.6666666666666666,
              "#ed7953"
             ],
             [
              0.7777777777777778,
              "#fb9f3a"
             ],
             [
              0.8888888888888888,
              "#fdca26"
             ],
             [
              1,
              "#f0f921"
             ]
            ],
            "type": "histogram2d"
           }
          ],
          "histogram2dcontour": [
           {
            "colorbar": {
             "outlinewidth": 0,
             "ticks": ""
            },
            "colorscale": [
             [
              0,
              "#0d0887"
             ],
             [
              0.1111111111111111,
              "#46039f"
             ],
             [
              0.2222222222222222,
              "#7201a8"
             ],
             [
              0.3333333333333333,
              "#9c179e"
             ],
             [
              0.4444444444444444,
              "#bd3786"
             ],
             [
              0.5555555555555556,
              "#d8576b"
             ],
             [
              0.6666666666666666,
              "#ed7953"
             ],
             [
              0.7777777777777778,
              "#fb9f3a"
             ],
             [
              0.8888888888888888,
              "#fdca26"
             ],
             [
              1,
              "#f0f921"
             ]
            ],
            "type": "histogram2dcontour"
           }
          ],
          "mesh3d": [
           {
            "colorbar": {
             "outlinewidth": 0,
             "ticks": ""
            },
            "type": "mesh3d"
           }
          ],
          "parcoords": [
           {
            "line": {
             "colorbar": {
              "outlinewidth": 0,
              "ticks": ""
             }
            },
            "type": "parcoords"
           }
          ],
          "pie": [
           {
            "automargin": true,
            "type": "pie"
           }
          ],
          "scatter": [
           {
            "fillpattern": {
             "fillmode": "overlay",
             "size": 10,
             "solidity": 0.2
            },
            "type": "scatter"
           }
          ],
          "scatter3d": [
           {
            "line": {
             "colorbar": {
              "outlinewidth": 0,
              "ticks": ""
             }
            },
            "marker": {
             "colorbar": {
              "outlinewidth": 0,
              "ticks": ""
             }
            },
            "type": "scatter3d"
           }
          ],
          "scattercarpet": [
           {
            "marker": {
             "colorbar": {
              "outlinewidth": 0,
              "ticks": ""
             }
            },
            "type": "scattercarpet"
           }
          ],
          "scattergeo": [
           {
            "marker": {
             "colorbar": {
              "outlinewidth": 0,
              "ticks": ""
             }
            },
            "type": "scattergeo"
           }
          ],
          "scattergl": [
           {
            "marker": {
             "colorbar": {
              "outlinewidth": 0,
              "ticks": ""
             }
            },
            "type": "scattergl"
           }
          ],
          "scattermap": [
           {
            "marker": {
             "colorbar": {
              "outlinewidth": 0,
              "ticks": ""
             }
            },
            "type": "scattermap"
           }
          ],
          "scattermapbox": [
           {
            "marker": {
             "colorbar": {
              "outlinewidth": 0,
              "ticks": ""
             }
            },
            "type": "scattermapbox"
           }
          ],
          "scatterpolar": [
           {
            "marker": {
             "colorbar": {
              "outlinewidth": 0,
              "ticks": ""
             }
            },
            "type": "scatterpolar"
           }
          ],
          "scatterpolargl": [
           {
            "marker": {
             "colorbar": {
              "outlinewidth": 0,
              "ticks": ""
             }
            },
            "type": "scatterpolargl"
           }
          ],
          "scatterternary": [
           {
            "marker": {
             "colorbar": {
              "outlinewidth": 0,
              "ticks": ""
             }
            },
            "type": "scatterternary"
           }
          ],
          "surface": [
           {
            "colorbar": {
             "outlinewidth": 0,
             "ticks": ""
            },
            "colorscale": [
             [
              0,
              "#0d0887"
             ],
             [
              0.1111111111111111,
              "#46039f"
             ],
             [
              0.2222222222222222,
              "#7201a8"
             ],
             [
              0.3333333333333333,
              "#9c179e"
             ],
             [
              0.4444444444444444,
              "#bd3786"
             ],
             [
              0.5555555555555556,
              "#d8576b"
             ],
             [
              0.6666666666666666,
              "#ed7953"
             ],
             [
              0.7777777777777778,
              "#fb9f3a"
             ],
             [
              0.8888888888888888,
              "#fdca26"
             ],
             [
              1,
              "#f0f921"
             ]
            ],
            "type": "surface"
           }
          ],
          "table": [
           {
            "cells": {
             "fill": {
              "color": "#EBF0F8"
             },
             "line": {
              "color": "white"
             }
            },
            "header": {
             "fill": {
              "color": "#C8D4E3"
             },
             "line": {
              "color": "white"
             }
            },
            "type": "table"
           }
          ]
         },
         "layout": {
          "annotationdefaults": {
           "arrowcolor": "#2a3f5f",
           "arrowhead": 0,
           "arrowwidth": 1
          },
          "autotypenumbers": "strict",
          "coloraxis": {
           "colorbar": {
            "outlinewidth": 0,
            "ticks": ""
           }
          },
          "colorscale": {
           "diverging": [
            [
             0,
             "#8e0152"
            ],
            [
             0.1,
             "#c51b7d"
            ],
            [
             0.2,
             "#de77ae"
            ],
            [
             0.3,
             "#f1b6da"
            ],
            [
             0.4,
             "#fde0ef"
            ],
            [
             0.5,
             "#f7f7f7"
            ],
            [
             0.6,
             "#e6f5d0"
            ],
            [
             0.7,
             "#b8e186"
            ],
            [
             0.8,
             "#7fbc41"
            ],
            [
             0.9,
             "#4d9221"
            ],
            [
             1,
             "#276419"
            ]
           ],
           "sequential": [
            [
             0,
             "#0d0887"
            ],
            [
             0.1111111111111111,
             "#46039f"
            ],
            [
             0.2222222222222222,
             "#7201a8"
            ],
            [
             0.3333333333333333,
             "#9c179e"
            ],
            [
             0.4444444444444444,
             "#bd3786"
            ],
            [
             0.5555555555555556,
             "#d8576b"
            ],
            [
             0.6666666666666666,
             "#ed7953"
            ],
            [
             0.7777777777777778,
             "#fb9f3a"
            ],
            [
             0.8888888888888888,
             "#fdca26"
            ],
            [
             1,
             "#f0f921"
            ]
           ],
           "sequentialminus": [
            [
             0,
             "#0d0887"
            ],
            [
             0.1111111111111111,
             "#46039f"
            ],
            [
             0.2222222222222222,
             "#7201a8"
            ],
            [
             0.3333333333333333,
             "#9c179e"
            ],
            [
             0.4444444444444444,
             "#bd3786"
            ],
            [
             0.5555555555555556,
             "#d8576b"
            ],
            [
             0.6666666666666666,
             "#ed7953"
            ],
            [
             0.7777777777777778,
             "#fb9f3a"
            ],
            [
             0.8888888888888888,
             "#fdca26"
            ],
            [
             1,
             "#f0f921"
            ]
           ]
          },
          "colorway": [
           "#636efa",
           "#EF553B",
           "#00cc96",
           "#ab63fa",
           "#FFA15A",
           "#19d3f3",
           "#FF6692",
           "#B6E880",
           "#FF97FF",
           "#FECB52"
          ],
          "font": {
           "color": "#2a3f5f"
          },
          "geo": {
           "bgcolor": "white",
           "lakecolor": "white",
           "landcolor": "#E5ECF6",
           "showlakes": true,
           "showland": true,
           "subunitcolor": "white"
          },
          "hoverlabel": {
           "align": "left"
          },
          "hovermode": "closest",
          "mapbox": {
           "style": "light"
          },
          "paper_bgcolor": "white",
          "plot_bgcolor": "#E5ECF6",
          "polar": {
           "angularaxis": {
            "gridcolor": "white",
            "linecolor": "white",
            "ticks": ""
           },
           "bgcolor": "#E5ECF6",
           "radialaxis": {
            "gridcolor": "white",
            "linecolor": "white",
            "ticks": ""
           }
          },
          "scene": {
           "xaxis": {
            "backgroundcolor": "#E5ECF6",
            "gridcolor": "white",
            "gridwidth": 2,
            "linecolor": "white",
            "showbackground": true,
            "ticks": "",
            "zerolinecolor": "white"
           },
           "yaxis": {
            "backgroundcolor": "#E5ECF6",
            "gridcolor": "white",
            "gridwidth": 2,
            "linecolor": "white",
            "showbackground": true,
            "ticks": "",
            "zerolinecolor": "white"
           },
           "zaxis": {
            "backgroundcolor": "#E5ECF6",
            "gridcolor": "white",
            "gridwidth": 2,
            "linecolor": "white",
            "showbackground": true,
            "ticks": "",
            "zerolinecolor": "white"
           }
          },
          "shapedefaults": {
           "line": {
            "color": "#2a3f5f"
           }
          },
          "ternary": {
           "aaxis": {
            "gridcolor": "white",
            "linecolor": "white",
            "ticks": ""
           },
           "baxis": {
            "gridcolor": "white",
            "linecolor": "white",
            "ticks": ""
           },
           "bgcolor": "#E5ECF6",
           "caxis": {
            "gridcolor": "white",
            "linecolor": "white",
            "ticks": ""
           }
          },
          "title": {
           "x": 0.05
          },
          "xaxis": {
           "automargin": true,
           "gridcolor": "white",
           "linecolor": "white",
           "ticks": "",
           "title": {
            "standoff": 15
           },
           "zerolinecolor": "white",
           "zerolinewidth": 2
          },
          "yaxis": {
           "automargin": true,
           "gridcolor": "white",
           "linecolor": "white",
           "ticks": "",
           "title": {
            "standoff": 15
           },
           "zerolinecolor": "white",
           "zerolinewidth": 2
          }
         }
        },
        "title": {
         "text": "Preiod of Relationship with Bank"
        },
        "width": 600,
        "xaxis": {
         "anchor": "y",
         "domain": [
          0,
          1
         ],
         "title": {
          "text": "Customer Age"
         }
        },
        "yaxis": {
         "anchor": "x",
         "domain": [
          0,
          1
         ],
         "title": {
          "text": "Months"
         }
        }
       }
      }
     },
     "metadata": {},
     "output_type": "display_data"
    }
   ],
   "source": [
    "fig = px.scatter(df, x=\"Customer_Age\", y=\"Months_on_book\",\n",
    "                labels={\n",
    "                    \"Customer_Age\": \"Age\",\n",
    "                    \"Months_on_book\": \"Months\"\n",
    "                })\n",
    "\n",
    "fig.update_layout(\n",
    "    title=\"Preiod of Relationship with Bank\",\n",
    "    plot_bgcolor='rgba(32, 32, 32, 0)',\n",
    "    paper_bgcolor='rgba(32, 32, 32, 1)',\n",
    "    font=dict(color='white'),\n",
    "    xaxis_title=\"Customer Age\",\n",
    "    yaxis_title=\"Months\",\n",
    "    legend_title_text='Age',\n",
    "    width=600,\n",
    "    height=500\n",
    ")\n",
    "\n",
    "# pio.write_image(fig=fig, file='Months_on_book.png', format='png')\n",
    "fig.show()"
   ]
  },
  {
   "cell_type": "markdown",
   "metadata": {},
   "source": [
    "**Customers who are older are more likely to have a longer period of relationship with the bank. It may prompts us to ponder why we rarely see an older individuals initiating new bank relationships. The bank does not get any old individuals as new customers. There are questions we can see, let's say For instance, could this trend be because older individuals have fewer needs for new credit services, or might it reflect a preference for sticking with familiar credit services over chaning into new ones?**"
   ]
  },
  {
   "cell_type": "markdown",
   "metadata": {},
   "source": [
    "**Another thing that is, the horizontal line at the 36-month mark. This line implies some people stop their credit card after 3 years of usage. May be, there can be things related to the 3-year mark, such as the expiration of a promotion or a common loan term**"
   ]
  },
  {
   "cell_type": "code",
   "execution_count": 34,
   "metadata": {},
   "outputs": [
    {
     "data": {
      "text/html": [
       "<div>\n",
       "<style scoped>\n",
       "    .dataframe tbody tr th:only-of-type {\n",
       "        vertical-align: middle;\n",
       "    }\n",
       "\n",
       "    .dataframe tbody tr th {\n",
       "        vertical-align: top;\n",
       "    }\n",
       "\n",
       "    .dataframe thead th {\n",
       "        text-align: right;\n",
       "    }\n",
       "</style>\n",
       "<table border=\"1\" class=\"dataframe\">\n",
       "  <thead>\n",
       "    <tr style=\"text-align: right;\">\n",
       "      <th></th>\n",
       "      <th>Attrition_Flag</th>\n",
       "      <th>Customer_Age</th>\n",
       "      <th>Gender</th>\n",
       "      <th>Dependent_count</th>\n",
       "      <th>Education_Level</th>\n",
       "      <th>Marital_Status</th>\n",
       "      <th>Income_Category</th>\n",
       "      <th>Card_Category</th>\n",
       "      <th>Months_on_book</th>\n",
       "      <th>Total_Relationship_Count</th>\n",
       "      <th>Months_Inactive_12_mon</th>\n",
       "      <th>Contacts_Count_12_mon</th>\n",
       "      <th>Credit_Limit</th>\n",
       "      <th>Total_Revolving_Bal</th>\n",
       "      <th>Avg_Open_To_Buy</th>\n",
       "      <th>Total_Amt_Chng_Q4_Q1</th>\n",
       "      <th>Total_Trans_Amt</th>\n",
       "      <th>Total_Trans_Ct</th>\n",
       "      <th>Total_Ct_Chng_Q4_Q1</th>\n",
       "      <th>Avg_Utilization_Ratio</th>\n",
       "    </tr>\n",
       "  </thead>\n",
       "  <tbody>\n",
       "    <tr>\n",
       "      <th>0</th>\n",
       "      <td>0</td>\n",
       "      <td>45</td>\n",
       "      <td>M</td>\n",
       "      <td>3</td>\n",
       "      <td>High School</td>\n",
       "      <td>Married</td>\n",
       "      <td>$60K - $80K</td>\n",
       "      <td>Blue</td>\n",
       "      <td>39</td>\n",
       "      <td>5</td>\n",
       "      <td>1</td>\n",
       "      <td>3</td>\n",
       "      <td>12691.0</td>\n",
       "      <td>777</td>\n",
       "      <td>11914.0</td>\n",
       "      <td>1.335</td>\n",
       "      <td>1144</td>\n",
       "      <td>42</td>\n",
       "      <td>1.625</td>\n",
       "      <td>0.061</td>\n",
       "    </tr>\n",
       "    <tr>\n",
       "      <th>1</th>\n",
       "      <td>0</td>\n",
       "      <td>49</td>\n",
       "      <td>F</td>\n",
       "      <td>5</td>\n",
       "      <td>Graduate</td>\n",
       "      <td>Single</td>\n",
       "      <td>Less than $40K</td>\n",
       "      <td>Blue</td>\n",
       "      <td>44</td>\n",
       "      <td>6</td>\n",
       "      <td>1</td>\n",
       "      <td>2</td>\n",
       "      <td>8256.0</td>\n",
       "      <td>864</td>\n",
       "      <td>7392.0</td>\n",
       "      <td>1.541</td>\n",
       "      <td>1291</td>\n",
       "      <td>33</td>\n",
       "      <td>3.714</td>\n",
       "      <td>0.105</td>\n",
       "    </tr>\n",
       "    <tr>\n",
       "      <th>2</th>\n",
       "      <td>0</td>\n",
       "      <td>51</td>\n",
       "      <td>M</td>\n",
       "      <td>3</td>\n",
       "      <td>Graduate</td>\n",
       "      <td>Married</td>\n",
       "      <td>$80K - $120K</td>\n",
       "      <td>Blue</td>\n",
       "      <td>36</td>\n",
       "      <td>4</td>\n",
       "      <td>1</td>\n",
       "      <td>0</td>\n",
       "      <td>3418.0</td>\n",
       "      <td>0</td>\n",
       "      <td>3418.0</td>\n",
       "      <td>2.594</td>\n",
       "      <td>1887</td>\n",
       "      <td>20</td>\n",
       "      <td>2.333</td>\n",
       "      <td>0.000</td>\n",
       "    </tr>\n",
       "    <tr>\n",
       "      <th>3</th>\n",
       "      <td>0</td>\n",
       "      <td>40</td>\n",
       "      <td>F</td>\n",
       "      <td>4</td>\n",
       "      <td>High School</td>\n",
       "      <td>Unknown</td>\n",
       "      <td>Less than $40K</td>\n",
       "      <td>Blue</td>\n",
       "      <td>34</td>\n",
       "      <td>3</td>\n",
       "      <td>4</td>\n",
       "      <td>1</td>\n",
       "      <td>3313.0</td>\n",
       "      <td>2517</td>\n",
       "      <td>796.0</td>\n",
       "      <td>1.405</td>\n",
       "      <td>1171</td>\n",
       "      <td>20</td>\n",
       "      <td>2.333</td>\n",
       "      <td>0.760</td>\n",
       "    </tr>\n",
       "    <tr>\n",
       "      <th>4</th>\n",
       "      <td>0</td>\n",
       "      <td>40</td>\n",
       "      <td>M</td>\n",
       "      <td>3</td>\n",
       "      <td>Uneducated</td>\n",
       "      <td>Married</td>\n",
       "      <td>$60K - $80K</td>\n",
       "      <td>Blue</td>\n",
       "      <td>21</td>\n",
       "      <td>5</td>\n",
       "      <td>1</td>\n",
       "      <td>0</td>\n",
       "      <td>4716.0</td>\n",
       "      <td>0</td>\n",
       "      <td>4716.0</td>\n",
       "      <td>2.175</td>\n",
       "      <td>816</td>\n",
       "      <td>28</td>\n",
       "      <td>2.500</td>\n",
       "      <td>0.000</td>\n",
       "    </tr>\n",
       "    <tr>\n",
       "      <th>...</th>\n",
       "      <td>...</td>\n",
       "      <td>...</td>\n",
       "      <td>...</td>\n",
       "      <td>...</td>\n",
       "      <td>...</td>\n",
       "      <td>...</td>\n",
       "      <td>...</td>\n",
       "      <td>...</td>\n",
       "      <td>...</td>\n",
       "      <td>...</td>\n",
       "      <td>...</td>\n",
       "      <td>...</td>\n",
       "      <td>...</td>\n",
       "      <td>...</td>\n",
       "      <td>...</td>\n",
       "      <td>...</td>\n",
       "      <td>...</td>\n",
       "      <td>...</td>\n",
       "      <td>...</td>\n",
       "      <td>...</td>\n",
       "    </tr>\n",
       "    <tr>\n",
       "      <th>10122</th>\n",
       "      <td>0</td>\n",
       "      <td>50</td>\n",
       "      <td>M</td>\n",
       "      <td>2</td>\n",
       "      <td>Graduate</td>\n",
       "      <td>Single</td>\n",
       "      <td>$40K - $60K</td>\n",
       "      <td>Blue</td>\n",
       "      <td>40</td>\n",
       "      <td>3</td>\n",
       "      <td>2</td>\n",
       "      <td>3</td>\n",
       "      <td>4003.0</td>\n",
       "      <td>1851</td>\n",
       "      <td>2152.0</td>\n",
       "      <td>0.703</td>\n",
       "      <td>15476</td>\n",
       "      <td>117</td>\n",
       "      <td>0.857</td>\n",
       "      <td>0.462</td>\n",
       "    </tr>\n",
       "    <tr>\n",
       "      <th>10123</th>\n",
       "      <td>1</td>\n",
       "      <td>41</td>\n",
       "      <td>M</td>\n",
       "      <td>2</td>\n",
       "      <td>Unknown</td>\n",
       "      <td>Divorced</td>\n",
       "      <td>$40K - $60K</td>\n",
       "      <td>Blue</td>\n",
       "      <td>25</td>\n",
       "      <td>4</td>\n",
       "      <td>2</td>\n",
       "      <td>3</td>\n",
       "      <td>4277.0</td>\n",
       "      <td>2186</td>\n",
       "      <td>2091.0</td>\n",
       "      <td>0.804</td>\n",
       "      <td>8764</td>\n",
       "      <td>69</td>\n",
       "      <td>0.683</td>\n",
       "      <td>0.511</td>\n",
       "    </tr>\n",
       "    <tr>\n",
       "      <th>10124</th>\n",
       "      <td>1</td>\n",
       "      <td>44</td>\n",
       "      <td>F</td>\n",
       "      <td>1</td>\n",
       "      <td>High School</td>\n",
       "      <td>Married</td>\n",
       "      <td>Less than $40K</td>\n",
       "      <td>Blue</td>\n",
       "      <td>36</td>\n",
       "      <td>5</td>\n",
       "      <td>3</td>\n",
       "      <td>4</td>\n",
       "      <td>5409.0</td>\n",
       "      <td>0</td>\n",
       "      <td>5409.0</td>\n",
       "      <td>0.819</td>\n",
       "      <td>10291</td>\n",
       "      <td>60</td>\n",
       "      <td>0.818</td>\n",
       "      <td>0.000</td>\n",
       "    </tr>\n",
       "    <tr>\n",
       "      <th>10125</th>\n",
       "      <td>1</td>\n",
       "      <td>30</td>\n",
       "      <td>M</td>\n",
       "      <td>2</td>\n",
       "      <td>Graduate</td>\n",
       "      <td>Unknown</td>\n",
       "      <td>$40K - $60K</td>\n",
       "      <td>Blue</td>\n",
       "      <td>36</td>\n",
       "      <td>4</td>\n",
       "      <td>3</td>\n",
       "      <td>3</td>\n",
       "      <td>5281.0</td>\n",
       "      <td>0</td>\n",
       "      <td>5281.0</td>\n",
       "      <td>0.535</td>\n",
       "      <td>8395</td>\n",
       "      <td>62</td>\n",
       "      <td>0.722</td>\n",
       "      <td>0.000</td>\n",
       "    </tr>\n",
       "    <tr>\n",
       "      <th>10126</th>\n",
       "      <td>1</td>\n",
       "      <td>43</td>\n",
       "      <td>F</td>\n",
       "      <td>2</td>\n",
       "      <td>Graduate</td>\n",
       "      <td>Married</td>\n",
       "      <td>Less than $40K</td>\n",
       "      <td>Silver</td>\n",
       "      <td>25</td>\n",
       "      <td>6</td>\n",
       "      <td>2</td>\n",
       "      <td>4</td>\n",
       "      <td>10388.0</td>\n",
       "      <td>1961</td>\n",
       "      <td>8427.0</td>\n",
       "      <td>0.703</td>\n",
       "      <td>10294</td>\n",
       "      <td>61</td>\n",
       "      <td>0.649</td>\n",
       "      <td>0.189</td>\n",
       "    </tr>\n",
       "  </tbody>\n",
       "</table>\n",
       "<p>10127 rows × 20 columns</p>\n",
       "</div>"
      ],
      "text/plain": [
       "       Attrition_Flag  Customer_Age Gender  Dependent_count Education_Level  \\\n",
       "0                   0            45      M                3     High School   \n",
       "1                   0            49      F                5        Graduate   \n",
       "2                   0            51      M                3        Graduate   \n",
       "3                   0            40      F                4     High School   \n",
       "4                   0            40      M                3      Uneducated   \n",
       "...               ...           ...    ...              ...             ...   \n",
       "10122               0            50      M                2        Graduate   \n",
       "10123               1            41      M                2         Unknown   \n",
       "10124               1            44      F                1     High School   \n",
       "10125               1            30      M                2        Graduate   \n",
       "10126               1            43      F                2        Graduate   \n",
       "\n",
       "      Marital_Status Income_Category Card_Category  Months_on_book  \\\n",
       "0            Married     $60K - $80K          Blue              39   \n",
       "1             Single  Less than $40K          Blue              44   \n",
       "2            Married    $80K - $120K          Blue              36   \n",
       "3            Unknown  Less than $40K          Blue              34   \n",
       "4            Married     $60K - $80K          Blue              21   \n",
       "...              ...             ...           ...             ...   \n",
       "10122         Single     $40K - $60K          Blue              40   \n",
       "10123       Divorced     $40K - $60K          Blue              25   \n",
       "10124        Married  Less than $40K          Blue              36   \n",
       "10125        Unknown     $40K - $60K          Blue              36   \n",
       "10126        Married  Less than $40K        Silver              25   \n",
       "\n",
       "       Total_Relationship_Count  Months_Inactive_12_mon  \\\n",
       "0                             5                       1   \n",
       "1                             6                       1   \n",
       "2                             4                       1   \n",
       "3                             3                       4   \n",
       "4                             5                       1   \n",
       "...                         ...                     ...   \n",
       "10122                         3                       2   \n",
       "10123                         4                       2   \n",
       "10124                         5                       3   \n",
       "10125                         4                       3   \n",
       "10126                         6                       2   \n",
       "\n",
       "       Contacts_Count_12_mon  Credit_Limit  Total_Revolving_Bal  \\\n",
       "0                          3       12691.0                  777   \n",
       "1                          2        8256.0                  864   \n",
       "2                          0        3418.0                    0   \n",
       "3                          1        3313.0                 2517   \n",
       "4                          0        4716.0                    0   \n",
       "...                      ...           ...                  ...   \n",
       "10122                      3        4003.0                 1851   \n",
       "10123                      3        4277.0                 2186   \n",
       "10124                      4        5409.0                    0   \n",
       "10125                      3        5281.0                    0   \n",
       "10126                      4       10388.0                 1961   \n",
       "\n",
       "       Avg_Open_To_Buy  Total_Amt_Chng_Q4_Q1  Total_Trans_Amt  Total_Trans_Ct  \\\n",
       "0              11914.0                 1.335             1144              42   \n",
       "1               7392.0                 1.541             1291              33   \n",
       "2               3418.0                 2.594             1887              20   \n",
       "3                796.0                 1.405             1171              20   \n",
       "4               4716.0                 2.175              816              28   \n",
       "...                ...                   ...              ...             ...   \n",
       "10122           2152.0                 0.703            15476             117   \n",
       "10123           2091.0                 0.804             8764              69   \n",
       "10124           5409.0                 0.819            10291              60   \n",
       "10125           5281.0                 0.535             8395              62   \n",
       "10126           8427.0                 0.703            10294              61   \n",
       "\n",
       "       Total_Ct_Chng_Q4_Q1  Avg_Utilization_Ratio  \n",
       "0                    1.625                  0.061  \n",
       "1                    3.714                  0.105  \n",
       "2                    2.333                  0.000  \n",
       "3                    2.333                  0.760  \n",
       "4                    2.500                  0.000  \n",
       "...                    ...                    ...  \n",
       "10122                0.857                  0.462  \n",
       "10123                0.683                  0.511  \n",
       "10124                0.818                  0.000  \n",
       "10125                0.722                  0.000  \n",
       "10126                0.649                  0.189  \n",
       "\n",
       "[10127 rows x 20 columns]"
      ]
     },
     "execution_count": 34,
     "metadata": {},
     "output_type": "execute_result"
    }
   ],
   "source": [
    "df"
   ]
  },
  {
   "cell_type": "code",
   "execution_count": 35,
   "metadata": {},
   "outputs": [],
   "source": [
    "object_columns = df.select_dtypes(include=\"object\").columns"
   ]
  },
  {
   "cell_type": "code",
   "execution_count": 36,
   "metadata": {},
   "outputs": [
    {
     "name": "stdout",
     "output_type": "stream",
     "text": [
      "Index(['Gender', 'Education_Level', 'Marital_Status', 'Income_Category',\n",
      "       'Card_Category'],\n",
      "      dtype='object')\n"
     ]
    }
   ],
   "source": [
    "print(object_columns)"
   ]
  },
  {
   "cell_type": "markdown",
   "metadata": {},
   "source": [
    "### **Potential Risks in the Credit Score Prediction Model & Mitigation Strategies**\n",
    "\n",
    "The **Random Forest-based Credit Score Prediction Model** faces several key risks, including **bias, data quality issues, adversarial attacks, and explainability concerns**. Below are the major risks and ways to mitigate them:\n",
    "\n",
    "### **1. Data Imbalance Risk**\n",
    "- **Risk:** The dataset may have more \"Good\" credit scores than \"Bad\" ones, leading to a bias where the model favors the majority class.\n",
    "- **Mitigation:**\n",
    "    - Use **SMOTE (Synthetic Minority Over-sampling Technique)** to balance classes.\n",
    "    - Use **class weighting** in Random Forest (`class_weight=\"balanced\"`) to penalize misclassification of minority classes.\n",
    "\n",
    "### **2. Bias & Fairness Risk**\n",
    "- **Risk:** Certain demographic groups (e.g., income level, gender, education) may be unfairly penalized by the model, leading to **discriminatory predictions**.\n",
    "- **Mitigation:**\n",
    "    - Use **adversarial debiasing** or **reweighting** strategies to ensure fairness.\n",
    "    - Implement **Equalized Odds** to ensure similar error rates across groups.\n",
    "    - Use **SHAP (SHapley Additive Explanations)** to check if features like \"Gender\" disproportionately influence predictions.\n",
    "\n",
    "### **3. Overfitting Risk**\n",
    "- **Risk:** The model may memorize patterns in training data rather than learning generalizable trends, leading to poor performance on unseen data.\n",
    "- **Mitigation:**\n",
    "    - Use **cross-validation** (`cv=5`) to validate performance across multiple subsets.\n",
    "    - Limit tree depth (`max_depth=10`) and reduce the number of trees (`n_estimators=200`) to prevent overfitting.\n",
    "    - Use **feature selection** (drop highly correlated or redundant features).\n",
    "\n",
    "### **4. Feature Leakage Risk**\n",
    "- **Risk:** Some features may contain future information that is unavailable at the time of prediction, artificially inflating accuracy.\n",
    "- **Example:** Using `Total_Trans_Amt` (total transaction amount) as a predictor when it is a result of credit behavior.\n",
    "- **Mitigation:**\n",
    "    - Perform **feature importance analysis** to detect and remove potential leaky features.\n",
    "    - Use **only features available at loan application time**.\n",
    "\n",
    "### **5. Adversarial Attacks & Fraud Risk**\n",
    "- **Risk:** Attackers may manipulate input data (e.g., **falsify income or credit utilization**) to get favorable predictions.\n",
    "- **Mitigation:**\n",
    "    - Implement **anomaly detection** to flag suspicious inputs.\n",
    "    - Use **adversarial training** to simulate and defend against attacks.\n",
    "    - Apply **robust scaling and noise injection** to make the model less sensitive to small manipulations.\n",
    "\n",
    "### **6. Model Explainability Risk**\n",
    "- **Risk:** Random Forest models are harder to interpret than simple linear models, making it difficult for financial analysts to trust predictions.\n",
    "- **Mitigation:**\n",
    "    - Use **SHAP values** to explain which features impact predictions.\n",
    "    - Generate **counterfactual explanations** (e.g., \"If your credit utilization was 10% lower, your score would increase\").\n",
    "    - Provide a **fairness report** alongside predictions to detect disparities.\n"
   ]
  },
  {
   "cell_type": "markdown",
   "metadata": {},
   "source": [
    "## Feature Engineering & Transformation"
   ]
  }
 ],
 "metadata": {
  "kernelspec": {
   "display_name": "Python 3",
   "language": "python",
   "name": "python3"
  },
  "language_info": {
   "codemirror_mode": {
    "name": "ipython",
    "version": 3
   },
   "file_extension": ".py",
   "mimetype": "text/x-python",
   "name": "python",
   "nbconvert_exporter": "python",
   "pygments_lexer": "ipython3",
   "version": "3.12.7"
  }
 },
 "nbformat": 4,
 "nbformat_minor": 2
}
